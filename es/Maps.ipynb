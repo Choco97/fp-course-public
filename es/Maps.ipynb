{
 "cells": [
  {
   "attachments": {},
   "cell_type": "markdown",
   "metadata": {},
   "source": [
    "Un `Map` es un diccionario, de modo tal que se accede a los datos a través de una llave. "
   ]
  },
  {
   "cell_type": "code",
   "execution_count": 36,
   "metadata": {
    "dotnet_interactive": {
     "language": "fsharp"
    },
    "polyglot_notebook": {
     "kernelName": "fsharp"
    },
    "vscode": {
     "languageId": "polyglot-notebook"
    }
   },
   "outputs": [
    {
     "name": "stdout",
     "output_type": "stream",
     "text": [
      "map [(1, \"Apples\"); (2, \"Bananas\")]\n",
      "\"Apples\"\n"
     ]
    }
   ],
   "source": [
    "let m1 = Map [1, \"Apples\" ; 2, \"Bananas\"]\n",
    "\n",
    "printfn \"%A\" m1 \n",
    "printfn \"%A\" m1[1] \n"
   ]
  },
  {
   "cell_type": "code",
   "execution_count": 37,
   "metadata": {
    "dotnet_interactive": {
     "language": "fsharp"
    },
    "polyglot_notebook": {
     "kernelName": "fsharp"
    },
    "vscode": {
     "languageId": "polyglot-notebook"
    }
   },
   "outputs": [
    {
     "ename": "Error",
     "evalue": "System.Collections.Generic.KeyNotFoundException: The given key was not present in the dictionary.\n   at Microsoft.FSharp.Collections.MapTreeModule.throwKeyNotFound[a]() in D:\\a\\_work\\1\\s\\src\\FSharp.Core\\map.fs:line 187\n   at Microsoft.FSharp.Collections.MapTreeModule.find[TKey,TValue](IComparer`1 comparer, TKey k, MapTree`2 m) in D:\\a\\_work\\1\\s\\src\\FSharp.Core\\map.fs:line 196\n   at <StartupCode$FSI_0042>.$FSI_0042.main@()\n   at System.RuntimeMethodHandle.InvokeMethod(Object target, Void** arguments, Signature sig, Boolean isConstructor)\n   at System.Reflection.MethodInvoker.Invoke(Object obj, IntPtr* args, BindingFlags invokeAttr)",
     "output_type": "error",
     "traceback": [
      "System.Collections.Generic.KeyNotFoundException: The given key was not present in the dictionary.\n",
      "   at Microsoft.FSharp.Collections.MapTreeModule.throwKeyNotFound[a]() in D:\\a\\_work\\1\\s\\src\\FSharp.Core\\map.fs:line 187\n",
      "   at Microsoft.FSharp.Collections.MapTreeModule.find[TKey,TValue](IComparer`1 comparer, TKey k, MapTree`2 m) in D:\\a\\_work\\1\\s\\src\\FSharp.Core\\map.fs:line 196\n",
      "   at <StartupCode$FSI_0042>.$FSI_0042.main@()\n",
      "   at System.RuntimeMethodHandle.InvokeMethod(Object target, Void** arguments, Signature sig, Boolean isConstructor)\n",
      "   at System.Reflection.MethodInvoker.Invoke(Object obj, IntPtr* args, BindingFlags invokeAttr)"
     ]
    }
   ],
   "source": [
    "printfn \"%A\" m1.[5]"
   ]
  },
  {
   "attachments": {},
   "cell_type": "markdown",
   "metadata": {},
   "source": [
    "A diferencia de las listas, es posible crear nuevos diccionarios usando funciones para agregar o cambiar ciertos valores:"
   ]
  },
  {
   "cell_type": "code",
   "execution_count": 38,
   "metadata": {
    "dotnet_interactive": {
     "language": "fsharp"
    },
    "polyglot_notebook": {
     "kernelName": "fsharp"
    },
    "vscode": {
     "languageId": "polyglot-notebook"
    }
   },
   "outputs": [
    {
     "name": "stdout",
     "output_type": "stream",
     "text": [
      "map [(1, \"Apples\"); (2, \"Bananas\"); (3, \"Oranges\")]\n"
     ]
    }
   ],
   "source": [
    "let m2 = m1.Add(3,\"Oranges\")\n",
    "printfn \"%A\" m2\n"
   ]
  },
  {
   "cell_type": "code",
   "execution_count": 39,
   "metadata": {
    "dotnet_interactive": {
     "language": "fsharp"
    },
    "polyglot_notebook": {
     "kernelName": "fsharp"
    },
    "vscode": {
     "languageId": "polyglot-notebook"
    }
   },
   "outputs": [
    {
     "name": "stdout",
     "output_type": "stream",
     "text": [
      "map [(1, \"Apples\"); (2, \"Bananas\"); (3, \"Oranges\")]\n",
      "map [(1, \"Apples\"); (2, \"Peaches\"); (3, \"Oranges\")]\n"
     ]
    }
   ],
   "source": [
    "let m3 = Map.add 2 \"Peaches\" m2 \n",
    "printfn \"%A\" m2\n",
    "printfn \"%A\" m3\n"
   ]
  },
  {
   "attachments": {},
   "cell_type": "markdown",
   "metadata": {},
   "source": [
    "Veamos algunas funciones similares con el ejemplo de los ⭐️⭐️⭐️:"
   ]
  },
  {
   "cell_type": "code",
   "execution_count": 19,
   "metadata": {
    "dotnet_interactive": {
     "language": "fsharp"
    },
    "polyglot_notebook": {
     "kernelName": "fsharp"
    },
    "vscode": {
     "languageId": "polyglot-notebook"
    }
   },
   "outputs": [],
   "source": [
    "type Position = GoalKeeper | Defender | Midfielder | Forward \n",
    "\n",
    "type Player =\n",
    "    {\n",
    "        Name : string\n",
    "        Team: string \n",
    "        Position: Position \n",
    "        Age: uint8 \n",
    "    }"
   ]
  },
  {
   "cell_type": "code",
   "execution_count": 20,
   "metadata": {
    "dotnet_interactive": {
     "language": "fsharp"
    },
    "polyglot_notebook": {
     "kernelName": "fsharp"
    },
    "vscode": {
     "languageId": "polyglot-notebook"
    }
   },
   "outputs": [],
   "source": [
    "let champions2022 = Map [// Los 3 arqueros de Argentina en Qatar 2022\n",
    "     23, { Name = \"Emiliano Martínez\" ;  Team = \"Aston Villa\"; Position = GoalKeeper; Age = 30uy};\n",
    "     12, { Name = \"Gerónimo Rulli\" ;  Team = \"Villarreal\"; Position = GoalKeeper; Age = 30uy};\n",
    "     1, { Name = \"Franco Armani\" ;  Team = \"River\"; Position = GoalKeeper; Age = 36uy};\n",
    "    // Los 9 defensores de Argentina en Qatar 2022\n",
    "     26, { Name = \"Nahuel Molina\" ;  Team = \"Atlético de Madrid\"; Position = Defender; Age = 24uy};\n",
    "     4, { Name = \"Gonzalo Montiel\" ;  Team = \"Sevilla\"; Position = Defender; Age = 25uy};\n",
    "     13, { Name = \"Cristian Romero\" ;  Team = \"Tottenham\"; Position = Defender; Age = 24uy};\n",
    "     6, { Name = \"Germán Pezzella\" ;  Team = \"Betis\"; Position = Defender; Age = 31uy};\n",
    "     19, { Name = \"Nicolás Otamendi\" ;  Team = \"Benfica\"; Position = Defender; Age = 34uy};\n",
    "     25, { Name = \"Lisandro Martínez\" ;  Team = \"Manchester United\"; Position = Defender; Age = 24uy};\n",
    "     8, { Name = \"Marcos Acuña\" ;  Team = \"Sevilla\"; Position = Defender; Age = 31uy};\n",
    "     3, { Name = \"Nicolás Tagliafico\" ;  Team = \"Olympique de Lyon\"; Position = Defender; Age = 30uy};\n",
    "     2, { Name = \"Juan Foyth\" ;  Team = \"Villarreal\"; Position = Defender; Age = 24uy};\n",
    "    // Los 8 mediocampistas de Argentina en Qatar 2022\n",
    "     7, { Name = \"Rodrigo De Paul\" ;  Team = \"Atlético de Madrid\"; Position = Midfielder; Age = 28uy};\n",
    "     5, { Name = \"Leandro Paredes\" ;  Team = \"Juventus\"; Position = Midfielder; Age = 28uy};\n",
    "     20, { Name = \"Alexis Mac Allister\" ;  Team = \"Brighton\"; Position = Midfielder; Age = 23uy};\n",
    "     18, { Name = \"Guido Rodríguez\" ;  Team = \"Betis\"; Position = Midfielder; Age = 28uy};\n",
    "     17, { Name = \"Alejandro Gómez\" ;  Team = \"Sevilla\"; Position = Midfielder; Age = 34uy};\n",
    "     24, { Name = \"Enzo Fernández\" ;  Team = \"Benfica\"; Position = Midfielder; Age = 21uy};\n",
    "     14, { Name = \"Exequiel Palacios\" ;  Team = \"Bayer Leverkusen\"; Position = Midfielder; Age = 24uy};\n",
    "     16, { Name = \"Thiago Almada\" ;  Team = \"Atlanta United\"; Position = Midfielder; Age = 21uy};\n",
    "    // Los 6 delanteros de Argentina en Qatar 2022\n",
    "     11, { Name = \"Ángel Di María\" ;  Team = \"Juventus\"; Position = Forward; Age = 34uy};\n",
    "     22, { Name = \"Lautaro Martínez\" ;  Team = \"Inter\"; Position = Forward; Age = 25uy};\n",
    "     9, { Name = \"Julián Álvarez\" ;  Team = \"Manchester City\"; Position = Forward; Age = 22uy};\n",
    "     21, { Name = \"Paulo Dybala\" ;  Team = \"Roma\"; Position = Forward; Age = 29uy};\n",
    "     15, { Name = \"Ángel Correa\" ;  Team = \"Atlético Madrid\"; Position = Forward; Age = 27uy};\n",
    "     10, { Name = \"Lionel Messi\" ;  Team = \"París Saint-Germain\"; Position = Forward; Age = 35uy};\n",
    "]"
   ]
  },
  {
   "cell_type": "code",
   "execution_count": 21,
   "metadata": {
    "dotnet_interactive": {
     "language": "fsharp"
    },
    "polyglot_notebook": {
     "kernelName": "fsharp"
    },
    "vscode": {
     "languageId": "polyglot-notebook"
    }
   },
   "outputs": [
    {
     "name": "stdout",
     "output_type": "stream",
     "text": [
      "1: Franco Armani (36), GoalKeeper, juega en River\n",
      "2: Juan Foyth (24), Defender, juega en Villarreal\n",
      "3: Nicolás Tagliafico (30), Defender, juega en Olympique de Lyon\n",
      "4: Gonzalo Montiel (25), Defender, juega en Sevilla\n",
      "5: Leandro Paredes (28), Midfielder, juega en Juventus\n",
      "6: Germán Pezzella (31), Defender, juega en Betis\n",
      "7: Rodrigo De Paul (28), Midfielder, juega en Atlético de Madrid\n",
      "8: Marcos Acuña (31), Defender, juega en Sevilla\n",
      "9: Julián Álvarez (22), Forward, juega en Manchester City\n",
      "10: Lionel Messi (35), Forward, juega en París Saint-Germain\n",
      "11: Ángel Di María (34), Forward, juega en Juventus\n",
      "12: Gerónimo Rulli (30), GoalKeeper, juega en Villarreal\n",
      "13: Cristian Romero (24), Defender, juega en Tottenham\n",
      "14: Exequiel Palacios (24), Midfielder, juega en Bayer Leverkusen\n",
      "15: Ángel Correa (27), Forward, juega en Atlético Madrid\n",
      "16: Thiago Almada (21), Midfielder, juega en Atlanta United\n",
      "17: Alejandro Gómez (34), Midfielder, juega en Sevilla\n",
      "18: Guido Rodríguez (28), Midfielder, juega en Betis\n",
      "19: Nicolás Otamendi (34), Defender, juega en Benfica\n",
      "20: Alexis Mac Allister (23), Midfielder, juega en Brighton\n",
      "21: Paulo Dybala (29), Forward, juega en Roma\n",
      "22: Lautaro Martínez (25), Forward, juega en Inter\n",
      "23: Emiliano Martínez (30), GoalKeeper, juega en Aston Villa\n",
      "24: Enzo Fernández (21), Midfielder, juega en Benfica\n",
      "25: Lisandro Martínez (24), Defender, juega en Manchester United\n",
      "26: Nahuel Molina (24), Defender, juega en Atlético de Madrid\n"
     ]
    }
   ],
   "source": [
    "let toStringPlayer number player = \n",
    "    $\"{number}: {player.Name} ({player.Age}), {player.Position}, juega en {player.Team}\"\n",
    "\n",
    "\n",
    "let prettyPrintMap m = \n",
    "    m\n",
    "    |> Map.iter (fun n p -> printfn \"%s\" (toStringPlayer n p))  \n",
    "\n",
    "prettyPrintMap champions2022       "
   ]
  },
  {
   "cell_type": "code",
   "execution_count": 22,
   "metadata": {
    "dotnet_interactive": {
     "language": "fsharp"
    },
    "polyglot_notebook": {
     "kernelName": "fsharp"
    },
    "vscode": {
     "languageId": "polyglot-notebook"
    }
   },
   "outputs": [
    {
     "name": "stdout",
     "output_type": "stream",
     "text": [
      "1: Franco Armani (36), GoalKeeper, juega en River\n",
      "2: Juan Foyth (24), Defender, juega en Villarreal\n",
      "3: Nicolás Tagliafico (30), Defender, juega en Olympique de Lyon\n",
      "4: Gonzalo Montiel (25), Defender, juega en Sevilla\n",
      "5: Leandro Paredes (28), Midfielder, juega en Juventus\n",
      "6: Germán Pezzella (31), Defender, juega en Betis\n",
      "7: Rodrigo De Paul (28), Midfielder, juega en Atlético de Madrid\n",
      "8: Marcos Acuña (31), Defender, juega en Sevilla\n",
      "9: Julián Álvarez (22), Forward, juega en Manchester City\n",
      "10: Lionel Messi (35), Forward, juega en París Saint-Germain\n",
      "11: Ángel Di María (34), Forward, juega en Juventus\n",
      "12: Gerónimo Rulli (30), GoalKeeper, juega en Villarreal\n",
      "13: Cristian Romero (24), Defender, juega en Tottenham\n",
      "14: Exequiel Palacios (24), Midfielder, juega en Bayer Leverkusen\n",
      "15: Ángel Correa (27), Forward, juega en Atlético Madrid\n",
      "16: Thiago Almada (21), Midfielder, juega en Atlanta United\n",
      "17: Alejandro Gómez (34), Midfielder, juega en Sevilla\n",
      "18: Guido Rodríguez (28), Midfielder, juega en Betis\n",
      "19: Nicolás Otamendi (34), Defender, juega en Benfica\n",
      "20: Alexis Mac Allister (23), Midfielder, juega en Brighton\n",
      "21: Paulo Dybala (29), Forward, juega en Roma\n",
      "22: Lautaro Martínez (25), Forward, juega en Inter\n",
      "23: Emiliano Martínez (30), GoalKeeper, juega en Aston Villa\n",
      "24: Enzo Fernández (21), Midfielder, juega en Benfica\n",
      "25: Lisandro Martínez (24), Defender, juega en Manchester United\n",
      "26: Nahuel Molina (24), Defender, juega en Atlético de Madrid\n"
     ]
    }
   ],
   "source": [
    "champions2022 \n",
    "|> Map.toList \n",
    "|> List.sortBy (fun (n,p) -> n)\n",
    "|> Map.ofList\n",
    "|> prettyPrintMap"
   ]
  },
  {
   "cell_type": "markdown",
   "metadata": {},
   "source": [
    "Quizás uno no necesita imprimir todos los datos de cada jugador:"
   ]
  },
  {
   "cell_type": "code",
   "execution_count": 23,
   "metadata": {
    "dotnet_interactive": {
     "language": "fsharp"
    },
    "polyglot_notebook": {
     "kernelName": "fsharp"
    },
    "vscode": {
     "languageId": "polyglot-notebook"
    }
   },
   "outputs": [
    {
     "name": "stdout",
     "output_type": "stream",
     "text": [
      "Franco Armani tiene 36 años\n",
      "Juan Foyth tiene 24 años\n",
      "Nicolás Tagliafico tiene 30 años\n",
      "Gonzalo Montiel tiene 25 años\n",
      "Leandro Paredes tiene 28 años\n",
      "Germán Pezzella tiene 31 años\n",
      "Rodrigo De Paul tiene 28 años\n",
      "Marcos Acuña tiene 31 años\n",
      "Julián Álvarez tiene 22 años\n",
      "Lionel Messi tiene 35 años\n",
      "Ángel Di María tiene 34 años\n",
      "Gerónimo Rulli tiene 30 años\n",
      "Cristian Romero tiene 24 años\n",
      "Exequiel Palacios tiene 24 años\n",
      "Ángel Correa tiene 27 años\n",
      "Thiago Almada tiene 21 años\n",
      "Alejandro Gómez tiene 34 años\n",
      "Guido Rodríguez tiene 28 años\n",
      "Nicolás Otamendi tiene 34 años\n",
      "Alexis Mac Allister tiene 23 años\n",
      "Paulo Dybala tiene 29 años\n",
      "Lautaro Martínez tiene 25 años\n",
      "Emiliano Martínez tiene 30 años\n",
      "Enzo Fernández tiene 21 años\n",
      "Lisandro Martínez tiene 24 años\n",
      "Nahuel Molina tiene 24 años\n"
     ]
    }
   ],
   "source": [
    "champions2022 \n",
    "|> Map.map (fun _ p -> $\"{p.Name} tiene {p.Age} años\")\n",
    "|> Map.iter (fun _ s -> printfn \"%s\" s)"
   ]
  },
  {
   "attachments": {},
   "cell_type": "markdown",
   "metadata": {},
   "source": [
    "Se puede buscar algún elemento del diccionario a través de la llave:"
   ]
  },
  {
   "cell_type": "code",
   "execution_count": 24,
   "metadata": {
    "dotnet_interactive": {
     "language": "fsharp"
    },
    "polyglot_notebook": {
     "kernelName": "fsharp"
    },
    "vscode": {
     "languageId": "polyglot-notebook"
    }
   },
   "outputs": [
    {
     "data": {
      "text/html": [
       "<details open=\"open\" class=\"dni-treeview\"><summary><span class=\"dni-code-hint\"><code>{ Name = \"Lautaro Martínez\"\\n  Team = \"Inter\"\\n  Position = Forward\\n  Age = 25uy }</code></span></summary><div><table><thead><tr></tr></thead><tbody><tr><td>Name</td><td>Lautaro Mart&#237;nez</td></tr><tr><td>Team</td><td>Inter</td></tr><tr><td>Position</td><td><details class=\"dni-treeview\"><summary><span class=\"dni-code-hint\"><code>Forward</code></span></summary><div><table><thead><tr></tr></thead><tbody></tbody></table></div></details></td></tr><tr><td>Age</td><td><div class=\"dni-plaintext\"><pre>25</pre></div></td></tr></tbody></table></div></details><style>\r\n",
       ".dni-code-hint {\r\n",
       "    font-style: italic;\r\n",
       "    overflow: hidden;\r\n",
       "    white-space: nowrap;\r\n",
       "}\r\n",
       ".dni-treeview {\r\n",
       "    white-space: nowrap;\r\n",
       "}\r\n",
       ".dni-treeview td {\r\n",
       "    vertical-align: top;\r\n",
       "    text-align: start;\r\n",
       "}\r\n",
       "details.dni-treeview {\r\n",
       "    padding-left: 1em;\r\n",
       "}\r\n",
       "table td {\r\n",
       "    text-align: start;\r\n",
       "}\r\n",
       "table tr { \r\n",
       "    vertical-align: top; \r\n",
       "    margin: 0em 0px;\r\n",
       "}\r\n",
       "table tr td pre \r\n",
       "{ \r\n",
       "    vertical-align: top !important; \r\n",
       "    margin: 0em 0px !important;\r\n",
       "} \r\n",
       "table th {\r\n",
       "    text-align: start;\r\n",
       "}\r\n",
       "</style>"
      ]
     },
     "metadata": {},
     "output_type": "display_data"
    }
   ],
   "source": [
    "champions2022\n",
    "|> Map.find 22\n"
   ]
  },
  {
   "cell_type": "code",
   "execution_count": 25,
   "metadata": {
    "dotnet_interactive": {
     "language": "fsharp"
    },
    "polyglot_notebook": {
     "kernelName": "fsharp"
    },
    "vscode": {
     "languageId": "polyglot-notebook"
    }
   },
   "outputs": [
    {
     "ename": "Error",
     "evalue": "System.Collections.Generic.KeyNotFoundException: The given key was not present in the dictionary.\n   at Microsoft.FSharp.Collections.MapTreeModule.throwKeyNotFound[a]() in D:\\a\\_work\\1\\s\\src\\FSharp.Core\\map.fs:line 187\n   at Microsoft.FSharp.Collections.MapTreeModule.find[TKey,TValue](IComparer`1 comparer, TKey k, MapTree`2 m) in D:\\a\\_work\\1\\s\\src\\FSharp.Core\\map.fs:line 196\n   at Microsoft.FSharp.Collections.MapModule.Find[TKey,T](TKey key, FSharpMap`2 table) in D:\\a\\_work\\1\\s\\src\\FSharp.Core\\map.fs:line 1148\n   at <StartupCode$FSI_0029>.$FSI_0029.main@()\n   at System.RuntimeMethodHandle.InvokeMethod(Object target, Void** arguments, Signature sig, Boolean isConstructor)\n   at System.Reflection.MethodInvoker.Invoke(Object obj, IntPtr* args, BindingFlags invokeAttr)",
     "output_type": "error",
     "traceback": [
      "System.Collections.Generic.KeyNotFoundException: The given key was not present in the dictionary.\n",
      "   at Microsoft.FSharp.Collections.MapTreeModule.throwKeyNotFound[a]() in D:\\a\\_work\\1\\s\\src\\FSharp.Core\\map.fs:line 187\n",
      "   at Microsoft.FSharp.Collections.MapTreeModule.find[TKey,TValue](IComparer`1 comparer, TKey k, MapTree`2 m) in D:\\a\\_work\\1\\s\\src\\FSharp.Core\\map.fs:line 196\n",
      "   at Microsoft.FSharp.Collections.MapModule.Find[TKey,T](TKey key, FSharpMap`2 table) in D:\\a\\_work\\1\\s\\src\\FSharp.Core\\map.fs:line 1148\n",
      "   at <StartupCode$FSI_0029>.$FSI_0029.main@()\n",
      "   at System.RuntimeMethodHandle.InvokeMethod(Object target, Void** arguments, Signature sig, Boolean isConstructor)\n",
      "   at System.Reflection.MethodInvoker.Invoke(Object obj, IntPtr* args, BindingFlags invokeAttr)"
     ]
    }
   ],
   "source": [
    "champions2022\n",
    "|> Map.find 31"
   ]
  },
  {
   "attachments": {},
   "cell_type": "markdown",
   "metadata": {},
   "source": [
    "Nótese que `Map.find` devuelve obviamente el único elemento que encuentra. Si uno quiere todos los elementos que comparten una cierta característica, usamos `Map.filter`"
   ]
  },
  {
   "cell_type": "code",
   "execution_count": 26,
   "metadata": {
    "dotnet_interactive": {
     "language": "fsharp"
    },
    "polyglot_notebook": {
     "kernelName": "fsharp"
    },
    "vscode": {
     "languageId": "polyglot-notebook"
    }
   },
   "outputs": [
    {
     "data": {
      "text/html": [
       "<table><thead><tr><th><i>key</i></th><th>value</th></tr></thead><tbody><tr><td><div class=\"dni-plaintext\"><pre>16</pre></div></td><td><details class=\"dni-treeview\"><summary><span class=\"dni-code-hint\"><code>{ Name = \"Thiago Almada\"\\n  Team = \"Atlanta United\"\\n  Position = Midfielder\\n  Age = 21uy }</code></span></summary><div><table><thead><tr></tr></thead><tbody><tr><td>Name</td><td>Thiago Almada</td></tr><tr><td>Team</td><td>Atlanta United</td></tr><tr><td>Position</td><td><details class=\"dni-treeview\"><summary><span class=\"dni-code-hint\"><code>Midfielder</code></span></summary><div><table><thead><tr></tr></thead><tbody></tbody></table></div></details></td></tr><tr><td>Age</td><td><div class=\"dni-plaintext\"><pre>21</pre></div></td></tr></tbody></table></div></details></td></tr><tr><td><div class=\"dni-plaintext\"><pre>24</pre></div></td><td><details class=\"dni-treeview\"><summary><span class=\"dni-code-hint\"><code>{ Name = \"Enzo Fernández\"\\n  Team = \"Benfica\"\\n  Position = Midfielder\\n  Age = 21uy }</code></span></summary><div><table><thead><tr></tr></thead><tbody><tr><td>Name</td><td>Enzo Fern&#225;ndez</td></tr><tr><td>Team</td><td>Benfica</td></tr><tr><td>Position</td><td><details class=\"dni-treeview\"><summary><span class=\"dni-code-hint\"><code>Midfielder</code></span></summary><div><table><thead><tr></tr></thead><tbody></tbody></table></div></details></td></tr><tr><td>Age</td><td><div class=\"dni-plaintext\"><pre>21</pre></div></td></tr></tbody></table></div></details></td></tr></tbody></table><style>\r\n",
       ".dni-code-hint {\r\n",
       "    font-style: italic;\r\n",
       "    overflow: hidden;\r\n",
       "    white-space: nowrap;\r\n",
       "}\r\n",
       ".dni-treeview {\r\n",
       "    white-space: nowrap;\r\n",
       "}\r\n",
       ".dni-treeview td {\r\n",
       "    vertical-align: top;\r\n",
       "    text-align: start;\r\n",
       "}\r\n",
       "details.dni-treeview {\r\n",
       "    padding-left: 1em;\r\n",
       "}\r\n",
       "table td {\r\n",
       "    text-align: start;\r\n",
       "}\r\n",
       "table tr { \r\n",
       "    vertical-align: top; \r\n",
       "    margin: 0em 0px;\r\n",
       "}\r\n",
       "table tr td pre \r\n",
       "{ \r\n",
       "    vertical-align: top !important; \r\n",
       "    margin: 0em 0px !important;\r\n",
       "} \r\n",
       "table th {\r\n",
       "    text-align: start;\r\n",
       "}\r\n",
       "</style>"
      ]
     },
     "metadata": {},
     "output_type": "display_data"
    }
   ],
   "source": [
    "champions2022\n",
    "|> Map.filter (fun _ p -> p.Age = 21uy)"
   ]
  },
  {
   "cell_type": "code",
   "execution_count": 27,
   "metadata": {
    "dotnet_interactive": {
     "language": "fsharp"
    },
    "polyglot_notebook": {
     "kernelName": "fsharp"
    },
    "vscode": {
     "languageId": "polyglot-notebook"
    }
   },
   "outputs": [
    {
     "name": "stdout",
     "output_type": "stream",
     "text": [
      "1: Franco Armani (36), GoalKeeper, juega en River\n",
      "12: Gerónimo Rulli (30), GoalKeeper, juega en Villarreal\n",
      "23: Emiliano Martínez (30), GoalKeeper, juega en Aston Villa\n"
     ]
    }
   ],
   "source": [
    "let arqueros = \n",
    "    champions2022\n",
    "    |> Map.filter (fun _ p -> p.Position = GoalKeeper)\n",
    "\n",
    "prettyPrintMap arqueros    "
   ]
  },
  {
   "attachments": {},
   "cell_type": "markdown",
   "metadata": {},
   "source": [
    "Podemos usar otros métodos para procesar los datos del diccionario, pero puede ser necesario convertirlas a una la lista con `Map.ofList`:"
   ]
  },
  {
   "cell_type": "code",
   "execution_count": 28,
   "metadata": {
    "dotnet_interactive": {
     "language": "fsharp"
    },
    "polyglot_notebook": {
     "kernelName": "fsharp"
    },
    "vscode": {
     "languageId": "polyglot-notebook"
    }
   },
   "outputs": [
    {
     "data": {
      "text/html": [
       "<div class=\"dni-plaintext\"><pre>27.76923076923077</pre></div><style>\r\n",
       ".dni-code-hint {\r\n",
       "    font-style: italic;\r\n",
       "    overflow: hidden;\r\n",
       "    white-space: nowrap;\r\n",
       "}\r\n",
       ".dni-treeview {\r\n",
       "    white-space: nowrap;\r\n",
       "}\r\n",
       ".dni-treeview td {\r\n",
       "    vertical-align: top;\r\n",
       "    text-align: start;\r\n",
       "}\r\n",
       "details.dni-treeview {\r\n",
       "    padding-left: 1em;\r\n",
       "}\r\n",
       "table td {\r\n",
       "    text-align: start;\r\n",
       "}\r\n",
       "table tr { \r\n",
       "    vertical-align: top; \r\n",
       "    margin: 0em 0px;\r\n",
       "}\r\n",
       "table tr td pre \r\n",
       "{ \r\n",
       "    vertical-align: top !important; \r\n",
       "    margin: 0em 0px !important;\r\n",
       "} \r\n",
       "table th {\r\n",
       "    text-align: start;\r\n",
       "}\r\n",
       "</style>"
      ]
     },
     "metadata": {},
     "output_type": "display_data"
    }
   ],
   "source": [
    "champions2022\n",
    "|> Map.toList \n",
    "|> List.averageBy (fun (_,p) -> float p.Age)"
   ]
  },
  {
   "attachments": {},
   "cell_type": "markdown",
   "metadata": {},
   "source": [
    "La función `Map.partition` nos permite agrupar los elementos en dos diccionarios con características disjuntas:"
   ]
  },
  {
   "cell_type": "code",
   "execution_count": 29,
   "metadata": {
    "dotnet_interactive": {
     "language": "fsharp"
    },
    "polyglot_notebook": {
     "kernelName": "fsharp"
    },
    "vscode": {
     "languageId": "polyglot-notebook"
    }
   },
   "outputs": [
    {
     "name": "stdout",
     "output_type": "stream",
     "text": [
      "Los menores de 30 son 16\n",
      "Los mayores de 30 son 10\n"
     ]
    }
   ],
   "source": [
    "let menoresde30, mayoresde30 = \n",
    "    champions2022\n",
    "    |> Map.map (fun _ p -> (p.Name,p.Age))\n",
    "    |> Map.partition (fun _ (name,age) -> age < 30uy)\n",
    "\n",
    "printfn $\"Los menores de 30 son {menoresde30.Count}\"\n",
    "printfn $\"Los mayores de 30 son {mayoresde30.Count}\""
   ]
  },
  {
   "attachments": {},
   "cell_type": "markdown",
   "metadata": {},
   "source": [
    "Finalmente, algunas funciones nos permiten evaluar una determinada característica de un diccionario:"
   ]
  },
  {
   "cell_type": "code",
   "execution_count": 30,
   "metadata": {
    "dotnet_interactive": {
     "language": "fsharp"
    },
    "polyglot_notebook": {
     "kernelName": "fsharp"
    },
    "vscode": {
     "languageId": "polyglot-notebook"
    }
   },
   "outputs": [
    {
     "data": {
      "text/html": [
       "<div class=\"dni-plaintext\"><pre>False</pre></div><style>\r\n",
       ".dni-code-hint {\r\n",
       "    font-style: italic;\r\n",
       "    overflow: hidden;\r\n",
       "    white-space: nowrap;\r\n",
       "}\r\n",
       ".dni-treeview {\r\n",
       "    white-space: nowrap;\r\n",
       "}\r\n",
       ".dni-treeview td {\r\n",
       "    vertical-align: top;\r\n",
       "    text-align: start;\r\n",
       "}\r\n",
       "details.dni-treeview {\r\n",
       "    padding-left: 1em;\r\n",
       "}\r\n",
       "table td {\r\n",
       "    text-align: start;\r\n",
       "}\r\n",
       "table tr { \r\n",
       "    vertical-align: top; \r\n",
       "    margin: 0em 0px;\r\n",
       "}\r\n",
       "table tr td pre \r\n",
       "{ \r\n",
       "    vertical-align: top !important; \r\n",
       "    margin: 0em 0px !important;\r\n",
       "} \r\n",
       "table th {\r\n",
       "    text-align: start;\r\n",
       "}\r\n",
       "</style>"
      ]
     },
     "metadata": {},
     "output_type": "display_data"
    }
   ],
   "source": [
    "champions2022\n",
    "|> Map.forall (fun _ p -> p.Age < 30uy)"
   ]
  }
 ],
 "metadata": {
  "language_info": {
   "name": "python"
  },
  "orig_nbformat": 4
 },
 "nbformat": 4,
 "nbformat_minor": 2
}

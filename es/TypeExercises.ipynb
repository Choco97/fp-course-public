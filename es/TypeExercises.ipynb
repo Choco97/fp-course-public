{
 "cells": [
  {
   "attachments": {},
   "cell_type": "markdown",
   "metadata": {},
   "source": [
    "## Ejercicios de tipos \n",
    "\n",
    "Unos ejercicios livianos para empezar a trabajar con dominios.\n",
    "\n",
    "### Monedas\n",
    "\n",
    "En algún momento, un cliente ingresará cierta cantidad de cada moneda para comprar un producto en la máquina expendedora de alimentos. La máquina recibe monedas de $\\$$0.1, $\\$$0.25 y $\\$$0.5 únicamente.\n",
    " - Modelar un tipo `Monedas` que dé cuenta del número de cada una de las monedas que recibe la máquina.\n",
    " - Crear una función `cantidad` que reciba un valor de `Monedas` y devuelva la cantidad en $\\$$ que el cliente introdujo en la máquina.\n",
    "\n",
    "> 💡 La función `float` se puede usar para convertir un valor entero a un tipo flotante\n",
    "\n",
    "### Lugares en la máquina expendedora\n",
    "\n",
    "El vendedor de la máquina expendedora de alimentos proporciona a la máquina diferentes lugares en cada estante para acomodar productos que tienen diferentes tamaños. El vendedor ofrece tres tamaños diferentes, simple, doble y triple.\n",
    "- Modelar los tamaños de los lugares en un tipo `SlotSize`.\n",
    "- Extienda el modelo `FoodMachineItem` para agregar el tamaño del producto medido por el tamaño de la lugar que ocupa.\n",
    "\n",
    "### Maquina de café\n",
    "Nuestro cliente de máquinas expendedoras quiere agregar una máquina de café justo al lado de la máquina expendedora de alimentos y quiere que preparemos el software para administrarla. Como conversación de primera ronda, nos han informado que la cafetera servirá café y té negro. A ambos se les puede agregar azúcar y crema. También tendrá chocolate y capuchino, con la única opción de agregar azúcar. Finalmente, también servirá un saludable té verde o blanco que se puede cubrir solo con leche. Comience a modelar la máquina de café introduciendo los tipos para describir todas estas bebidas.\n",
    "\n",
    "## Poker (o Truco)\n",
    "- Usando uniones discriminadas y/o records, modelar un mazo de cartas francesas (poker) o españolas, sin comodines.\n",
    "- Cómo cambiaría el modelo anterior si se incluyen dos comodines por mazo?"
   ]
  }
 ],
 "metadata": {
  "kernelspec": {
   "display_name": ".NET (C#)",
   "language": "C#",
   "name": ".net-csharp"
  },
  "language_info": {
   "name": "polyglot-notebook"
  },
  "polyglot_notebook": {
   "kernelInfo": {
    "defaultKernelName": "csharp",
    "items": [
     {
      "aliases": [],
      "name": ".NET"
     },
     {
      "aliases": [
       "C#",
       "c#"
      ],
      "languageName": "C#",
      "name": "csharp"
     },
     {
      "aliases": [
       "F#",
       "f#"
      ],
      "languageName": "F#",
      "name": "fsharp"
     },
     {
      "aliases": [],
      "languageName": "HTML",
      "name": "html"
     },
     {
      "aliases": [
       "js"
      ],
      "languageName": "JavaScript",
      "name": "javascript"
     },
     {
      "aliases": [],
      "languageName": "KQL",
      "name": "kql"
     },
     {
      "aliases": [],
      "languageName": "Mermaid",
      "name": "mermaid"
     },
     {
      "aliases": [
       "powershell"
      ],
      "languageName": "PowerShell",
      "name": "pwsh"
     },
     {
      "aliases": [],
      "languageName": "SQL",
      "name": "sql"
     },
     {
      "aliases": [],
      "name": "value"
     },
     {
      "aliases": [
       "frontend"
      ],
      "name": "vscode"
     },
     {
      "aliases": [],
      "name": "webview"
     }
    ]
   }
  }
 },
 "nbformat": 4,
 "nbformat_minor": 2
}

{
 "cells": [
  {
   "attachments": {},
   "cell_type": "markdown",
   "metadata": {},
   "source": [
    "Continuando con la lectura de archivos de datos estructurados, a veces no es posible (o es mucho trabajo) hacer el _parsing_ de los datos. Veamos un ejemplo en que esto ocurre:"
   ]
  },
  {
   "cell_type": "code",
   "execution_count": null,
   "metadata": {
    "dotnet_interactive": {
     "language": "fsharp"
    },
    "polyglot_notebook": {
     "kernelName": "fsharp"
    }
   },
   "outputs": [],
   "source": [
    "let readFile(fileName: string) =  \n",
    "    let lines = File.ReadAllLines(fileName)\n",
    "    lines \n",
    "    "
   ]
  },
  {
   "attachments": {},
   "cell_type": "markdown",
   "metadata": {},
   "source": [
    "En este caso, tomamos datos de un archivo con canciones de los Beatles"
   ]
  },
  {
   "cell_type": "code",
   "execution_count": null,
   "metadata": {
    "dotnet_interactive": {
     "language": "fsharp"
    },
    "polyglot_notebook": {
     "kernelName": "fsharp"
    }
   },
   "outputs": [],
   "source": [
    "let beatlesFile = \"../data/The Beatles songs dataset.csv\"\n",
    "\n",
    "let songs = readFile(beatlesFile)"
   ]
  },
  {
   "cell_type": "code",
   "execution_count": null,
   "metadata": {
    "dotnet_interactive": {
     "language": "fsharp"
    },
    "polyglot_notebook": {
     "kernelName": "fsharp"
    }
   },
   "outputs": [],
   "source": [
    "songs.GetType()"
   ]
  },
  {
   "cell_type": "code",
   "execution_count": null,
   "metadata": {
    "dotnet_interactive": {
     "language": "fsharp"
    },
    "polyglot_notebook": {
     "kernelName": "fsharp"
    }
   },
   "outputs": [],
   "source": [
    "printfn \"%A\" songs[0]\n",
    "printfn \"%A\" songs[1]"
   ]
  },
  {
   "cell_type": "code",
   "execution_count": null,
   "metadata": {
    "dotnet_interactive": {
     "language": "fsharp"
    },
    "polyglot_notebook": {
     "kernelName": "fsharp"
    }
   },
   "outputs": [],
   "source": [
    "songs[0..20]\n",
    "|> Seq.iteri  (fun i s->  printfn $\"{i}: {s}\")"
   ]
  },
  {
   "cell_type": "code",
   "execution_count": null,
   "metadata": {
    "dotnet_interactive": {
     "language": "fsharp"
    },
    "polyglot_notebook": {
     "kernelName": "fsharp"
    }
   },
   "outputs": [],
   "source": [
    "let song =   songs[2].Split('\"')\n",
    "printfn \"%A\" song"
   ]
  },
  {
   "cell_type": "code",
   "execution_count": null,
   "metadata": {
    "dotnet_interactive": {
     "language": "fsharp"
    },
    "polyglot_notebook": {
     "kernelName": "fsharp"
    }
   },
   "outputs": [],
   "source": [
    "song.Length"
   ]
  },
  {
   "attachments": {},
   "cell_type": "markdown",
   "metadata": {},
   "source": [
    "Uno puede consultar otros _parsers_, que los hay por doquier, por ejemplo [en esta página](https://www.joelverhagen.com/blog/2020/12/fastest-net-csv-parsers), pero, gracias al tipo de dato estático, existe una módulo que nos puede resolver el problema, a través de _type providers_."
   ]
  },
  {
   "attachments": {},
   "cell_type": "markdown",
   "metadata": {},
   "source": [
    "### Type Providers\n",
    "\n",
    "Un _type provider_  es una biblioteca que nos permite lidiar con tipos particulares datos:\n",
    "\n",
    "- [CSV type provider](http://fsprojects.github.io/FSharp.Data/library/CsvProvider.html).\n",
    "- [Html type provider](https://fsprojects.github.io/FSharp.Data/library/HtmlProvider.html).\n",
    "- [Json type provider](https://fsprojects.github.io/FSharp.Data/library/JsonProvider.html).\n",
    "\n",
    "son algunos ejemplos. \n",
    "\n",
    "La biblioteca `FSharp.Data` es la que usaremos para aprender a leer estos tipos de datos. En un notebook se importa de la siguiente manera:"
   ]
  },
  {
   "cell_type": "code",
   "execution_count": null,
   "metadata": {
    "dotnet_interactive": {
     "language": "fsharp"
    },
    "polyglot_notebook": {
     "kernelName": "fsharp"
    }
   },
   "outputs": [],
   "source": [
    "#r \"nuget: FSharp.Data\"\n",
    "\n",
    "open FSharp.Data"
   ]
  },
  {
   "attachments": {},
   "cell_type": "markdown",
   "metadata": {},
   "source": [
    "Un _type provider_ genera un tipo de dato a partir de la información que lee desde un archivo. Esto ocurre en el momento de la compilación. Al momento de ejecutar el código, el tipo que se creó puede utilizarse para procesar los datos"
   ]
  },
  {
   "cell_type": "code",
   "execution_count": null,
   "metadata": {
    "dotnet_interactive": {
     "language": "fsharp"
    },
    "polyglot_notebook": {
     "kernelName": "fsharp"
    }
   },
   "outputs": [],
   "source": [
    "type SongsTypeProvider = FSharp.Data.CsvProvider<\"../data/The Beatles songs dataset.csv\", HasHeaders=true>"
   ]
  },
  {
   "attachments": {},
   "cell_type": "markdown",
   "metadata": {},
   "source": [
    "El compilador (y la biblioteca `FSharp.Data`) construyen el _type provider_ utilizando el archivo \"../data/The Beatles songs dataset.csv\" como plantilla, descubriendo la estructura de los datos. \n",
    "\n",
    "Se puede obtener los datos propiamente dichos con:"
   ]
  },
  {
   "cell_type": "code",
   "execution_count": null,
   "metadata": {
    "dotnet_interactive": {
     "language": "fsharp"
    },
    "polyglot_notebook": {
     "kernelName": "fsharp"
    }
   },
   "outputs": [],
   "source": [
    "let songs = SongsTypeProvider.GetSample()"
   ]
  },
  {
   "attachments": {},
   "cell_type": "markdown",
   "metadata": {},
   "source": [
    "De este modo, usamos el mismo archivo para crear el tipo y para obtener los datos. Sin embargo, se podría usar dos archivos diferentes, uno como plantilla y otro con los datos. En ese caso, llamamos al método  `.Load`: \n",
    "\n",
    "```fsharp\n",
    "type SongsTypeProvider = FSharp.Data.CsvProvider<\"myTemplateDataFile.csv\", HasHeaders=true>\n",
    "let songs = SongsTypeProvider.Load(\"myRealDataFile.csv\")\n",
    "```\n"
   ]
  },
  {
   "attachments": {},
   "cell_type": "markdown",
   "metadata": {},
   "source": [
    "Al crear el tipo de dato, el _type provider_ crea los campos para poder acceder a la información, por ejemplo"
   ]
  },
  {
   "cell_type": "code",
   "execution_count": null,
   "metadata": {
    "dotnet_interactive": {
     "language": "fsharp"
    },
    "polyglot_notebook": {
     "kernelName": "fsharp"
    }
   },
   "outputs": [],
   "source": [
    "songs.Headers "
   ]
  },
  {
   "attachments": {},
   "cell_type": "markdown",
   "metadata": {},
   "source": [
    "nos da los encabezados de cada columna de los datos. Los datos propiamente dichos los encontramos en el campo `.Rows`: "
   ]
  },
  {
   "cell_type": "code",
   "execution_count": null,
   "metadata": {
    "dotnet_interactive": {
     "language": "fsharp"
    },
    "polyglot_notebook": {
     "kernelName": "fsharp"
    }
   },
   "outputs": [],
   "source": [
    "songs.Rows\n",
    "|> Seq.take 20 \n",
    "|> Seq.iteri  (fun i s ->  printfn $\"{i}: {s}\")"
   ]
  },
  {
   "attachments": {},
   "cell_type": "markdown",
   "metadata": {},
   "source": [
    "A partir de los encabezados de las columnas, el _type provider_ construye los campos correspondientes a cada dato:"
   ]
  },
  {
   "cell_type": "code",
   "execution_count": null,
   "metadata": {
    "dotnet_interactive": {
     "language": "fsharp"
    },
    "polyglot_notebook": {
     "kernelName": "fsharp"
    }
   },
   "outputs": [],
   "source": [
    "songs.Rows\n",
    "|> Seq.take 20 \n",
    "|> Seq.iteri  (fun i s ->  printfn $\"{i}: {s.Title} by {s.Songwriter}\")"
   ]
  },
  {
   "cell_type": "code",
   "execution_count": null,
   "metadata": {
    "dotnet_interactive": {
     "language": "fsharp"
    },
    "polyglot_notebook": {
     "kernelName": "fsharp"
    }
   },
   "outputs": [],
   "source": [
    "songs.Rows\n",
    "|> Seq.take 20 \n",
    "|> Seq.iteri  (fun i s ->  printfn $\"{i}: {s.Title} by >{s.``Lead.vocal``}<\")"
   ]
  },
  {
   "cell_type": "code",
   "execution_count": null,
   "metadata": {
    "dotnet_interactive": {
     "language": "fsharp"
    },
    "polyglot_notebook": {
     "kernelName": "fsharp"
    }
   },
   "outputs": [],
   "source": [
    "songs.Rows \n",
    "|> Seq.filter (fun r -> r.``Top.50.Billboard``=1)\n",
    "|> Seq.iter (fun r -> printfn $\"Name:{r.Title} position {r.``Top.50.Billboard``}\")\n"
   ]
  },
  {
   "attachments": {},
   "cell_type": "markdown",
   "metadata": {},
   "source": [
    "#### Eligiendo separadores\n",
    "\n",
    "Se pueden especificar los separadores al momento de crear el tipo:\n",
    "```fsharp\n",
    "CsvProvider<\"../data/AirQuality.csv\", Separators=\";,\">\n",
    "```\n",
    "\n",
    "### Datos que faltan\n",
    "\n",
    "El _type provider_ tiene [ciertas reglas para tratar con datos que faltan](https://fsprojects.github.io/FSharp.Data/library/CsvProvider.html#Controlling-the-column-types). Por ejemplo, si el dato que se espera en alguna columna es un número, pero el archivo contiene `NaN`, al crear el dato el _type provider lo reportará como `Double.NaN`. \n",
    "\n",
    "Por otro lado, [podemos especificar qué `strings` queremos que se conviertan a `Nan`](https://fsprojects.github.io/FSharp.Data/library/CsvProvider.html#Missing-values):\n",
    "\n",
    "```fsharp \n",
    "CsvProvider<\"X,Y,Z\\nthis,that,1.0\", MissingValues=\"this,that\">\n",
    "    .GetSample()\n",
    "    .Rows\n",
    "```\n",
    "\n",
    "Además, si preferimos no utilizar las reglas del _type provider_, usamos `PreferOptionals=true` para que genere tipos `option` en el caso \n",
    "de datos faltantes:\n"
   ]
  },
  {
   "cell_type": "code",
   "execution_count": null,
   "metadata": {
    "dotnet_interactive": {
     "language": "fsharp"
    },
    "polyglot_notebook": {
     "kernelName": "fsharp"
    }
   },
   "outputs": [],
   "source": [
    "type SongsTypeProviderOpt = FSharp.Data.CsvProvider<\"../data/The Beatles songs dataset.csv\", HasHeaders=true, PreferOptionals=true>\n",
    "\n",
    "let songsWithOpt = SongsTypeProviderOpt.GetSample()\n",
    "\n",
    "songsWithOpt.Rows\n",
    "|> Seq.take 5\n",
    "|> Seq.iteri  (fun i s ->  printfn $\"{i}: {s}\")"
   ]
  },
  {
   "attachments": {},
   "cell_type": "markdown",
   "metadata": {},
   "source": [
    "### Html Provider\n",
    "\n",
    "También podemos obtener los datos de una página web usando un Html provider:"
   ]
  },
  {
   "cell_type": "code",
   "execution_count": null,
   "metadata": {
    "dotnet_interactive": {
     "language": "fsharp"
    },
    "polyglot_notebook": {
     "kernelName": "fsharp"
    }
   },
   "outputs": [],
   "source": [
    "[<Literal>]\n",
    "let url = \"\"\"https://en.wikipedia.org/wiki/List_of_songs_recorded_by_the_Beatles\"\"\"\n",
    "\n",
    "type WebSongsTypeProvider = FSharp.Data.HtmlProvider<url>\n",
    "\n",
    "\n",
    "let songs = WebSongsTypeProvider.Load(\"https://en.wikipedia.org/wiki/List_of_songs_recorded_by_the_Beatles\")"
   ]
  },
  {
   "cell_type": "code",
   "execution_count": null,
   "metadata": {
    "dotnet_interactive": {
     "language": "fsharp"
    },
    "polyglot_notebook": {
     "kernelName": "fsharp"
    }
   },
   "outputs": [],
   "source": [
    "songs.Tables.``Main songsEdit 3``.Rows\n",
    "|> Seq.map (fun r -> r.Song, r.Year)\n",
    "|> Seq.filter (fun (s,y) -> y=1968)\n",
    "|> Seq.iter (fun (s,y) -> printfn $\"Name:%s{s} Year:{y}\")\n"
   ]
  },
  {
   "attachments": {},
   "cell_type": "markdown",
   "metadata": {},
   "source": [
    "### Json Provider\n",
    "\n",
    "Finalmente, existe un _type provider_  para leer datos en formato JSON (JavaScript Object Notation), que es standard en la transmisión de información en internet."
   ]
  },
  {
   "cell_type": "code",
   "execution_count": null,
   "metadata": {
    "dotnet_interactive": {
     "language": "fsharp"
    },
    "polyglot_notebook": {
     "kernelName": "fsharp"
    }
   },
   "outputs": [],
   "source": [
    "[<Literal>]\n",
    "let tvUrl = \"https://raw.githubusercontent.com/mganitombalak/training/master/tv-shows.json\""
   ]
  },
  {
   "cell_type": "code",
   "execution_count": null,
   "metadata": {
    "dotnet_interactive": {
     "language": "fsharp"
    },
    "polyglot_notebook": {
     "kernelName": "fsharp"
    }
   },
   "outputs": [],
   "source": [
    "type TvListing = JsonProvider<tvUrl>\n",
    "let tvListing = TvListing.GetSamples()                                   \n"
   ]
  },
  {
   "cell_type": "code",
   "execution_count": null,
   "metadata": {
    "dotnet_interactive": {
     "language": "fsharp"
    },
    "polyglot_notebook": {
     "kernelName": "fsharp"
    }
   },
   "outputs": [],
   "source": [
    "tvListing\n",
    "|> Seq.map (fun t -> (t.Name,t.Rating.Average))\n",
    "|> Seq.sortByDescending (fun (n,a) -> a)\n",
    "|> Seq.take 20\n",
    "|> Seq.iter (fun (n,a) -> printfn $\"{n}: {a}\")"
   ]
  }
 ],
 "metadata": {
  "kernelspec": {
   "display_name": ".NET (C#)",
   "language": "C#",
   "name": ".net-csharp"
  },
  "language_info": {
   "name": "polyglot-notebook"
  },
  "orig_nbformat": 4,
  "polyglot_notebook": {
   "kernelInfo": {
    "defaultKernelName": "csharp",
    "items": [
     {
      "aliases": [],
      "name": "csharp"
     },
     {
      "aliases": [],
      "name": "fsharp"
     }
    ]
   }
  }
 },
 "nbformat": 4,
 "nbformat_minor": 2
}

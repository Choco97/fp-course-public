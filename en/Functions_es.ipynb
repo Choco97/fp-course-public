{
 "cells": [
  {
   "cell_type": "markdown",
   "metadata": {
    "lang": "es"
   },
   "source": [
    "## Entonces, ¿qué es una función de todos modos?\n",
    "\n",
    "\n",
    "\n",
    "Ya que estamos a punto de aprender programación funcional, debemos estar de acuerdo en qué es una _función_ en este contexto. Comencemos con un conjunto de entidades, por ejemplo, los autos estacionados en un bloque dado de una calle. Se puede identificar cada auto por su placa, y luego construir una tabla con dos columnas: la primera con la placa y la segunda con el color correspondiente a cada auto:\n",
    "\n",
    "indefinido Lic. Placa indefinido Color indefinido\n",
    "indefinido :----------: indefinido:-------------------:indefinido\n",
    "indefinido ABC 124 indefinido negro indefinido\n",
    "indefinido DEF 350 indefinido rojo indefinido\n",
    "indefinido QRZ 441 indefinido negro indefinido\n",
    "indefinido JPG 255 indefinido blanco indefinido\n",
    "\n",
    "Esa es una función que podemos llamar `carColor`, que asocia cada auto del bloque con su color. La tabla es una representación de esa función. Una función de un conjunto de entidades A a un conjunto de entidades B es entonces una relación que asocia elementos entre los conjuntos A y B, con la propiedad de que todos y cada uno de los elementos de A tienen un único elemento correspondiente de B.\n",
    "\n",
    "Hay dos cosas a tener en cuenta. Primero, se define una función _desde_ un conjunto _a_ otro conjunto, en nuestro ejemplo, desde el conjunto de matrículas al conjunto de colores. Para obtener el color de un automóvil en particular, vaya a la tabla de representación de la función, busque la placa en la columna de placas y obtenga el color de la segunda columna. Con esto en mente, se puede identificar el conjunto _desde_ como la _entrada_ de la función, mientras que el conjunto _a_ es la _salida_.\n",
    "\n",
    "En segundo lugar, todos los elementos de la entrada deben relacionarse con algún elemento del conjunto de salida. En nuestro ejemplo, cada automóvil en el bloque tiene un color asignado en la tabla. Esto significa que no puede haber celdas vacías en la segunda columna de nuestra tabla.\n",
    "\n",
    "> ❓ ¿Se te ocurren más ejemplos de funciones en el mundo real?\n",
    "\n",
    "En matemáticas, las funciones son ubicuas. Supongamos que $x$ es un número real y definamos la función\n",
    "\n",
    "$$\n",
    "f(x) = x + 1, \n",
    "$$\n",
    "\n",
    "es decir, la función que devuelve el valor $x$ más uno. El conjunto de entrada (que se denomina _dominio_ de la función en matemáticas) es el conjunto de todos los valores reales, $\\mathbb{R}$, mientras que el conjunto de salida (el _codominio_ en matemáticas) también es $\\mathbb{R}$ , porque sumar uno a cualquier número real también es otro número real. Usando la notación _flecha_, la definición completa de la función sería\n",
    "\n",
    "$$\n",
    "f: \\mathbb{R} \\rightarrow \\mathbb{R} \\; ; \\;  x \\mapsto x + 1,\n",
    "$$\n",
    "\n",
    "que se puede leer de la siguiente manera: $f$ es una función de $\\mathbb{R}$ a $\\mathbb{R}$ tal que $f$ de $x$ es $x + 1$\".\n",
    "\n",
    "> 🔔 Un ligero desvío alrededor del codominio. El codominio es el conjunto de entidades en las que la función posiblemente puede asignar valores de entrada. Por ejemplo, en el caso del color de los coches, el codominio es simplemente el conjunto de todos los colores posibles. En muchos casos, esa información es demasiado general y es conveniente definir el _rango_ de la función, que es el conjunto de valores reales de las salidas en las que la función mapea las entradas. El rango en el ejemplo de los autos es el conjunto {negro, rojo, blanco}.\n",
    "\n",
    "### Múltiples entradas y salidas\n",
    "\n",
    "Tomemos el ejemplo de una máquina expendedora. En una máquina expendedora, los productos se organizan en estantes, donde cada estante se nombra con una letra. En cada estante, los productos están alineados e identificados por un número. Luego, en A1 tienes una bolsa de papas fritas, en A2 un chocolate, en B1 un refresco, y así sucesivamente. La máquina también tiene un teclado con letras y números para que elijas el producto. Para comprar algo, debe darle dinero a la máquina (monedas, billetes, tarjeta de crédito, etc.), seleccione el producto haciendo clic en la letra y el número en el teclado. La máquina devuelve el producto y algún cashback, si lo hubiera.\n",
    "Las entradas de nuestra función `VendingMachine` son el dinero, la letra y el número que seleccionó, y las salidas son el producto y\n",
    "el reembolso (si lo hay).\n",
    "\n",
    "Un ejemplo de matemáticas podría ser una función de traducción, donde dado un punto con coordenadas \\(x\\) y $y$ en el plano, devuelve un punto con coordenadas $x+1$ y $y+1$:\n",
    "\n",
    "$$\n",
    "g: \\mathbb{R} \\times \\mathbb{R} \\rightarrow \\mathbb{R} \\times \\mathbb{R}  \\; ; \\;  (x,y) \\mapsto (x + 1, y+1)\n",
    "$$\n",
    "\n",
    "o más sucintamente\n",
    "\n",
    "$$\n",
    "g(x,y) = (x+1,y+1)\n",
    "$$\n",
    "\n",
    "### Aplicación parcial\n",
    "Cuando alimentamos una función de varios elementos de entrada, podemos obtener las salidas adecuadas. Pero tener muchas entradas abre una nueva posibilidad: ¿qué sucede cuando uno decide no completar todas las entradas? Averigüémoslo. Supongamos que ingresamos un billete en la máquina expendedora. Está claro que no obtendremos ningún producto, porque la máquina todavía necesita dos entradas más: la letra de la estantería y el número de producto que queremos. _Después_ de que completemos estas dos entradas, obtendremos nuestro regalo (y el reembolso, si corresponde). Por lo tanto, ingresar dinero solo en la máquina expendedora conduce a un estado en el que se necesitan dos entradas y se devolverán dos salidas. Pero, esta es _otra función_!!!. Llamémosle `vendingMachineAfterInsertBill` que recibe la letra del estante y el número de producto que queremos y devuelve el producto (y cashback, si lo hay).\n",
    "\n",
    "Volviendo al ejemplo matemático, alimentemos la función solo con el valor $x = 3$,\n",
    "\n",
    "$$\n",
    "g(3,y) = (4,y+1)\n",
    "$$\n",
    "\n",
    "Nuevamente, el resultado de alimentar la función con un valor es otra función:\n",
    "\n",
    "$$\n",
    "h: \\mathbb{R} \\rightarrow \\mathbb{R} \\times \\mathbb{R}  \\; ; \\;  y \\mapsto (4, y+1)\n",
    "$$\n",
    "\n",
    "o\n",
    "\n",
    "$$\n",
    "h(y) = (4,y+1)\n",
    "$$\n",
    "\n",
    "Esta propiedad de las funciones se llama _aplicación parcial_. Cada vez que no completa todas las entradas de una función, obtiene otra función.\n",
    "\n",
    "### Composición\n",
    " \n",
    "Finalmente, vemos aquí cómo trabajar con varias funciones a la vez. Supongamos que tenemos una función `getFirstName` que, dado el nombre completo de una persona, devuelve el nombre (no importa en este punto los detalles de la implementación, ni siquiera el idioma). Por ejemplo, cuando se aplica a 'David Gilmour', devuelve 'David', o cuando se aplica a 'Annie Lennox', devuelve, por supuesto, 'Annie'.\n",
    "También tenemos una función `getInitial` que para un nombre dado, devuelve la inicial. En los casos anteriores, 'D' por 'David' y 'A' por 'Annie'.\n",
    "\n",
    "Ahora queremos construir una función que nos dé la inicial del primer nombre, dado el nombre completo. Por 'Paul McCartney'. Alimentamos 'Paul McCartney' como entrada a la función 'getFirstName', que nos da la salida 'Paul'. Ahora, 'Paul' es la entrada de la función 'getInitial' y devuelve 'P' como salida final.\n",
    "Esta tubería donde la salida de una función es la entrada de otra se llama _composición_. Tenga en cuenta que es absolutamente necesario que la salida de la primera función llamada (`getFirstName`) y la entrada de la segunda (`getInitial`) sean del mismo tipo de entidad, en nuestro caso, ambos son nombres.\n",
    "Puede [ver estas imágenes para obtener una explicación gráfica] (https://mathinsight.org/function_machine_composition).\n",
    "\n",
    "Veamos ahora un ejemplo matemático. Definimos antes la función $f(x)$ que suma uno a $x$, por ejemplo\n",
    "\n",
    "$$\n",
    "f(0) = 0 + 1 = 1\n",
    "$$\n",
    "\n",
    "¿Y si volvemos a aplicar la función $f$? significa computar\n",
    "\n",
    "$$\n",
    "f(f(0)) = f(0) + 1 = 0 + 1 + 1 = 2 \n",
    "$$\n",
    "\n",
    "En general,\n",
    "\n",
    "$$\n",
    "f(f(x)) = f(x) + 1 = x + 1 + 1 = x + 2 \n",
    "$$\n",
    "\n",
    "Si observamos detenidamente la última expresión, parece que componer la función es como pasar la función como la entrada misma ($f(f(x))$). Esto significa que si vamos a tener un lenguaje de programación que implemente la composición de funciones, de alguna manera las funciones deberían poder pasarse como entrada a otras funciones.\n",
    "\n",
    "> ❗️ El hecho de que usemos la misma función para componer consigo misma no es relevante para esta discusión, uno puede componer tantas funciones diferentes como quiera, siempre que las entradas y salidas sean compatibles en cada paso de composición.\n",
    "\n",
    "> 🔔 Sin embargo, componer esa función particular consigo misma es interesante. Imágenes que tienen solo el cero y esta función. Puedes crear todos los números naturales {1, 2, ...} simplemente componiendo esta función consigo misma una y otra vez. Por ejemplo, $4 = f(f(f(f(0))))$, etc. Por lo tanto, dado el número 0, $f(x) = x + 1$ y la composición de funciones, se pueden obtener todos los números naturales. Parece que algo está pasando aquí. Más sobre esto, con suerte, en un episodio futuro."
   ]
  },
  {
   "cell_type": "markdown",
   "metadata": {
    "lang": "es"
   },
   "source": [
    "## Qu'est-ce qu'une fonction ?\n",
    "\n",
    "\n",
    "\n",
    "Puisque nous sommes sur le point d'apprendre la programmation fonctionnelle, nous devons nous mettre d'accord sur ce qu'est une _function_ dans ce contexte. Commençons par un ensemble d'entités, par exemple, les voitures garées dans un block donné d'une rue. En peut identifier chaque voiture par sa plaque d'immatriculation, puis construire un tableau à deux colonnes : la première avec la plaque d'immatriculation, et la seconde avec avec la couleur corresponsal de chaque voiture :\n",
    "\n",
    "sin definición Lic. Placa indefinida Color indefinido\n",
    "non definido :---------- : non definido :---------------------- : non definido\n",
    "indéfini ABC 124 indéfini noir indéfini\n",
    "indéfini DEF 350 indéfini rouge indéfini\n",
    "indefinido QRZ 441 indefinido noir indefinido\n",
    "indéfini JPG 255 indéfini blanc indéfini\n",
    "\n",
    "C'est une fonction que nous pouvons appeler `carColor`, qui associe chaque voiture du block à sa couleur. Le tableau est une représentation de cette fonction. Une fonction d'un ensemble d'entités A vers un ensemble d'entités Best est alors une relation qui associe des eléments entre les ensembles A et B, avec la propriété que chaque elément de A a un et un seul elément corresponsal de B.\n",
    "\n",
    "Il y a dos escojes a nota. Estreno, una función es definida _de_ un conjunto _à_ un conjunto autre, dans notre exemple, del conjunto de placas de immatriculación al conjunto de colores. Pour obtener la couleur d'une voiture particulière, vous accédez à la représentation du tableau de la fonction, recherchez la plaque dans la colonne des plaques d'immatriculation et obtener la couleur de la deuxième colonne. Dans cet esprit, on peut identifier l'ensemble _from_ comme l'_entrée_ de la fonction, tandis que l'ensemble _to_ est la _sortie<_>.\n",
    "\n",
    "Deuxièmement, tous les éléments de l'entrée doivent être liés à un élément de l'ensemble de sortie. Dans notre exemple, chaque voiture du block a une couleur attribuée dans le tableau. Cela significa qu'il ne peut pas y avoir de cellules vides dans la deuxième colonne de notre tableau.\n",
    "\n",
    "> ❓ Pouvez-vous proponer d'autres exemples de fonctions dans le monde réel ?\n",
    "\n",
    "En matemáticas, las funciones son omnipresentes. Supposons que $x$ est un nombre réel et définissons la fonction\n",
    "\n",
    "$$\n",
    "f(x) = x + 1, \n",
    "$$\n",
    "\n",
    "c'est-à-dire la fonction qui renvoie la valeur $x$ plus un. L'ensemble d'entrée (qui est appelé le_domaine_de la fonction en mathématiques) est l'ensemble de toutes les valeurs réelles, $\\mathbb{R}$, tandis que l'ensemble de sortie (le_codomaine<_> en mathématiques) est également $\\mathbb{R}$ , car l'ajout d'un à n'importe quel nombre réel est également un autre nombre réel. En utilisant la notation _flèche_, la definición completa de la fonction serait\n",
    "\n",
    "$$\n",
    "f: \\mathbb{R} \\rightarrow \\mathbb{R} \\; ; \\;  x \\mapsto x + 1,\n",
    "$$\n",
    "\n",
    "qui peut être lu comme suit : $f$ est une fonction de $\\mathbb{R}$ à $\\mathbb{R}$ telle que $f$ de $x$ est $x + 1$\".\n",
    "\n",
    "> 🔔 Un léger détour autour du codomain. Le codomain est l'ensemble d'entités dans lesquelles la fonction peut éventuellement mapper des valeurs d'entrée. Por ejemplo, dans le cas de la couleur des voitures, le codomain est simplement l'ensemble de toutes les couleurs possibles. Dans de nombreux cas, ces information sont trop générales et il est pratique de définir la _plage_ de la fonction, qui est l'ensemble des valeurs réelles des sorties dans lesquelles la fonction mappe les entrées. La gamme dans l'exemple des voitures est l'ensemble {noir, rouge, blanc}.\n",
    "\n",
    "### Entradas y salidas múltiples\n",
    "\n",
    "Prenons l'exemple d'un distribuidor automático. Dans un distributionur automatique, les produits sont disposés dans des étagères, chaque étagère étant désignée par a lettre. Dans chaque étagère, les produits sont alignés et identifiés par un numéro. Ensuite, en A1 con un sobre de patatas fritas, en A2 con chocolate, en B1 con soda, etc. Pour acheter quelque choose, vous devez donner de l'argent à la machine (pièces de monnaie, billets, carte de crédit, etc.), sélectionnez le produit en cliquant sur la lettre et le chiffre sur le clavier. La machine renvoie le produit et une remise en argent, le cas échéant.\n",
    "Les entrées de notre fonction \"vendingMachine\" sont l'argent, la lettre et le numéro que vous avez selectionnés, et les sorties sont le produit et\n",
    "le cashback (le cas échéant).\n",
    "\n",
    "Un exemple mathématique pourrait être una fonction de traduction, où étant donné un point avec les coordonnées \\(x\\) et $y$ dans le plan, elle renvoie a point avec les coordonnées $x+1$ et $y+1$ :\n",
    "\n",
    "$$\n",
    "g: \\mathbb{R} \\times \\mathbb{R} \\rightarrow \\mathbb{R} \\times \\mathbb{R}  \\; ; \\;  (x,y) \\mapsto (x + 1, y+1)\n",
    "$$\n",
    "\n",
    "o más resumen\n",
    "\n",
    "$$\n",
    "g(x,y) = (x+1,y+1)\n",
    "$$\n",
    "\n",
    "### Aplicación particular\n",
    "Lorsque nous alimentosns une fonction de plusieurs eléments d'entrée, nous pouvons obtenir la ou les sorties appropriées. Mais avoir de nombreuses entrées ouvre une nouvelle possibilité : que se passe-t-il quand on décide de ne pas compléter toutes les entrées ? Découvrons-le. Supposons que nous ayons entré une facture dans le distribution automatique. Il est clair que nous n'obtiendrons aucun produit, car la machine a encore besoin de deux entrées supplémentaires : la lettre de l'étagère et le numéro de produit que nous voulons. _Après_ nous aurons terminé ces deux entrées, nous obtiendrons notre friandise (et notre cashback, le cas échéant). Ainsi, entrer de l'argent uniquement dans le distributionur automatique conduit à un état où deux entrées sont nécessaires et deux sorties seront retournées. Mais, c'est _une autre fonction_!!!. Appelons-le `vendingMachineAfterInsertBill` qui reçoit la lettre de l'étagère et le numéro de produit que nous voulons et renvoie le produit (et le cashback, le cas échéant).\n",
    "\n",
    "Pour en revenir à l'exemple mathématique, alimentos la fonction avec juste la valeur $x = 3$,\n",
    "\n",
    "$$\n",
    "g(3,y) = (4,y+1)\n",
    "$$\n",
    "\n",
    "Encore une fois, le résultat de l'alimentation de la fonction avec une valeur est une autre fonction :\n",
    "\n",
    "$$\n",
    "h: \\mathbb{R} \\rightarrow \\mathbb{R} \\times \\mathbb{R}  \\; ; \\;  y \\mapsto (4, y+1)\n",
    "$$\n",
    "\n",
    "UNED\n",
    "\n",
    "$$\n",
    "h(y) = (4,y+1)\n",
    "$$\n",
    "\n",
    "Cette propriété des fonctions est appelée _aplicación parcial_. Chaque fois que vous ne remplissez pas toutes les entrées d'une fonction, vous obtenez une autre fonction.\n",
    "\n",
    "### Composición\n",
    " \n",
    "Enfin, nous considerons ici comment travailler avec plusieurs fonctions à la fois. Supone que nous ayons une fonction `getFirstName` qui, étant donné le nom complet d'une personne, renvoie le prénom (peu import à ce stade les spécificités de l'implementation, pas même la langue). Por ejemplo, lorsqu'il est appliqué à 'David Gilmour', il renvoie 'David', ou lorsqu'il est appliqué à 'Annie Lennox', il renvoie, bien sûr, 'Annie'.\n",
    "Nous avons également une fonction `getInitial` qui, pour un nom donné, renvoie l'initiale. Dans les cas précédents, 'D' para 'David' y 'A' para 'Annie'.\n",
    "\n",
    "Maintenant, nous voulons construire une fonction qui nous donne l'initiale du prénom, étant donné le nom complet. Vierta 'Paul McCartney'. Nous alimentosns 'Paul McCartney' en entrée de la fonction `getFirstName`, qui nous donne la sortie 'Paul'. Maintenant, 'Paul' est l'entrée de la fonction `getInitial` et renvoie 'P' comme sortie finale.\n",
    "Cette plomberie où la sortie d'une fonction est l'entrée d'une autre s'appelle _composition_. Notez qu'il est absolument nécessaire que la sortie de la première fonction appelée (`getFirstName`) et l'entrée de la seconde (`getInitial`) soient le même type d'entité, dans notre cas, les deux sont des prénoms.\n",
    "Vous pouvez [voir ces images pour une explication graphique](https://mathinsight.org/function_machine_composition).\n",
    "\n",
    "Regardons maintenant un exemple mathématique. Nous avons défini avant la fonction $f(x)$ qui ajoute un à $x$, por ejemplo\n",
    "\n",
    "$$\n",
    "f(0) = 0 + 1 = 1\n",
    "$$\n",
    "\n",
    "Et si nous appliquions à nouveau la fonction $f$? Calculadora de significado cela\n",
    "\n",
    "$$\n",
    "f(f(0)) = f(0) + 1 = 0 + 1 + 1 = 2 \n",
    "$$\n",
    "\n",
    "En general,\n",
    "\n",
    "$$\n",
    "f(f(x)) = f(x) + 1 = x + 1 + 1 = x + 2 \n",
    "$$\n",
    "\n",
    "Sin embargo, la atención de la última expresión, el compositor de la función revient à passer la función comme entrée elle-même ($f(f(x))$). Cela significa que si nous allons avoir un langage de programmation qui implémente la Composition de fonctions, d'une Certaine manière, les fonctions devraient pouvoir être transmises en entrée à d'autres fonctions.\n",
    "\n",
    "> ❗️ Le fait qu'on utilice la même fonction pour composer avec elle-même n'est pas pertinente en esta discusión, on peut composer autant de fonctions différentes que l'on veut, à condition que les entrées et les sorties soient compatibles à Chaque étape de composición.\n",
    "\n",
    "> 🔔 Cependant, compositor cette fonction particulière avec elle-même est intéressant. Imagerie n'ayant que le zéro et cette fonction. Vous pouvez créer tous les nombres naturels {1, 2, ...} simplement en composant cette fonction avec elle-même encore et encore. Por ejemplo, $4 = f(f(f(f(0))))$, etc. Por consiguiente, étant donné le nombre 0, $f(x) = x + 1$ y la composición de la función, sobre cómo obtener todos los nombres naturales. En dirait qu'il se passe quelque eligió ici. Plus d'informations à ce sujet, espérons-le, dans un prochain épisode."
   ]
  },
  {
   "cell_type": "markdown",
   "metadata": {
    "lang": "es"
   },
   "source": [
    "## Funciones en F\\#\n",
    "\n",
    "El lenguaje F\\# implementa funciones de tal manera que satisfacen las propiedades mencionadas anteriormente. Para definir una función, el lenguaje también usa la palabra clave `let`:"
   ]
  },
  {
   "cell_type": "code",
   "execution_count": 1,
   "metadata": {
    "dotnet_interactive": {
     "language": "fsharp"
    },
    "vscode": {
     "languageId": "polyglot-notebook"
    }
   },
   "outputs": [],
   "source": [
    "let next x =\n",
    "    x + 1 "
   ]
  },
  {
   "cell_type": "markdown",
   "metadata": {
    "lang": "es"
   },
   "source": [
    "Definimos la función llamada `siguiente` que recibe un argumento `x`. Observe que no hay otros símbolos o paréntesis en la definición de la función. El cuerpo de la función debe estar sangrado y no hay ninguna palabra clave `return` al final. La función simplemente devuelve la última expresión encontrada en su cuerpo. Limpio, ¿no?\n",
    "Usar la función también es fácil:"
   ]
  },
  {
   "cell_type": "code",
   "execution_count": 2,
   "metadata": {
    "dotnet_interactive": {
     "language": "fsharp"
    },
    "vscode": {
     "languageId": "polyglot-notebook"
    }
   },
   "outputs": [
    {
     "name": "stdout",
     "output_type": "stream",
     "text": [
      "one: 1\n",
      "two: 2\n"
     ]
    }
   ],
   "source": [
    "let one = next 0 \n",
    "let two = next (next 0)\n",
    "\n",
    "printfn \"one: %A\" one \n",
    "printfn \"two: %A\" two "
   ]
  },
  {
   "cell_type": "markdown",
   "metadata": {
    "lang": "es"
   },
   "source": [
    "Tenga en cuenta que no es necesario usar paréntesis alrededor del argumento cuando se usa una función. Sin embargo, debe usarlos cuando pase una expresión más compleja como argumento a la función, como en el caso de `dos`.\n",
    "\n",
    "Hay otra forma de escribir el cálculo de `dos`, utilizando el _operador de canalización_ `|>`:"
   ]
  },
  {
   "cell_type": "code",
   "execution_count": 3,
   "metadata": {
    "dotnet_interactive": {
     "language": "fsharp"
    },
    "vscode": {
     "languageId": "polyglot-notebook"
    }
   },
   "outputs": [
    {
     "name": "stdout",
     "output_type": "stream",
     "text": [
      "anotherTwo: 2\n"
     ]
    }
   ],
   "source": [
    "let anotherTwo =\n",
    "    0 \n",
    "    |> next\n",
    "    |> next \n",
    "    \n",
    "printfn \"anotherTwo: %A\" anotherTwo"
   ]
  },
  {
   "cell_type": "markdown",
   "metadata": {
    "dotnet_interactive": {
     "language": "csharp"
    },
    "polyglot_notebook": {
     "kernelName": "csharp"
    }
   },
   "source": [
    "This operator takes care of the plumbing when calling functions one after another. In the example above, the first `|>` receives `0` as the input, passes it to the next function, the second `|>` receives the output of the first `next` function and feeds it as input to the second `next`. "
   ]
  },
  {
   "cell_type": "markdown",
   "metadata": {
    "lang": "es"
   },
   "source": [
    "Otro ejemplo. Supongamos que tenemos las funciones `getInitial` y `getFirstName` definidas como:\n",
    "\n",
    "```fagudo\n",
    "let getInitial nombre =\n",
    "    .... //La implementación no es importante en este momento\n",
    "```\n",
    "\n",
    "y\n",
    "\n",
    "```fagudo\n",
    "let getFirstName fullName =\n",
    "    .... //La implementación no es importante en este momento\n",
    "```\n",
    "\n",
    "y definimos el valor\n",
    "\n",
    "```fagudo\n",
    "let paul = \"Paul McCartney\"\n",
    "```\n",
    "\n",
    "Entonces,\n",
    "\n",
    "```fagudo\n",
    "Pablo\n",
    "indefinido> getFirstName\n",
    "indefinido> getInicial\n",
    "```\n",
    "Aquí, el valor de la cadena `paul` se introduce en la función `getFirstName` como la entrada de la primera canalización `|>`, y devuelve 'Paul' como salida. Luego, la cadena 'Paul' se pasa como entrada de la función 'getInitial' que nos da la 'P'."
   ]
  },
  {
   "cell_type": "markdown",
   "metadata": {
    "dotnet_interactive": {
     "language": "csharp"
    },
    "polyglot_notebook": {
     "kernelName": "csharp"
    }
   },
   "source": [
    "Composition is so important in functional languages, that it has its own symbol in F\\#, `>>` :"
   ]
  },
  {
   "cell_type": "code",
   "execution_count": 4,
   "metadata": {
    "dotnet_interactive": {
     "language": "fsharp"
    },
    "vscode": {
     "languageId": "polyglot-notebook"
    }
   },
   "outputs": [
    {
     "name": "stdout",
     "output_type": "stream",
     "text": [
      "2\n"
     ]
    }
   ],
   "source": [
    "let add2 = next >> next \n",
    "let two' = add2 0 \n",
    "printfn \"%A\" two'"
   ]
  },
  {
   "cell_type": "markdown",
   "metadata": {
    "dotnet_interactive": {
     "language": "csharp"
    },
    "polyglot_notebook": {
     "kernelName": "csharp"
    }
   },
   "source": [
    "Yes, you can use the `'` symbol in any identifier! (provided it is not the first character). Note also that we defined a _function_ `add2` by using the composition operator (no argument needed). This is equivalent to:"
   ]
  },
  {
   "cell_type": "code",
   "execution_count": 5,
   "metadata": {
    "dotnet_interactive": {
     "language": "fsharp"
    },
    "vscode": {
     "languageId": "polyglot-notebook"
    }
   },
   "outputs": [],
   "source": [
    "let add2' x = \n",
    "    x\n",
    "    |> next\n",
    "    |> next "
   ]
  },
  {
   "cell_type": "markdown",
   "metadata": {
    "dotnet_interactive": {
     "language": "fsharp"
    }
   },
   "source": [
    "Remember that there is no return at the end of the function, just the last expression of the function is the return value. "
   ]
  },
  {
   "cell_type": "markdown",
   "metadata": {
    "dotnet_interactive": {
     "language": "fsharp"
    }
   },
   "source": [
    "Back to the names example, to clarify the order in which functions are composed. \n",
    "\n",
    "```fsharp\n",
    "let getInitialFromFirstName fullName =\n",
    "    fullName\n",
    "        |> getFirstName \n",
    "        |> getInitial \n",
    "```\n",
    "and \n",
    "\n",
    "```fsharp\n",
    "let getInitialFromFirstName' =\n",
    "        getFirstName >> getInitial \n",
    "```\n",
    "\n",
    "are equivalent. "
   ]
  },
  {
   "cell_type": "markdown",
   "metadata": {
    "dotnet_interactive": {
     "language": "csharp"
    },
    "polyglot_notebook": {
     "kernelName": "csharp"
    }
   },
   "source": [
    "> ❓ Think about routines, procedures or functions that maybe you have written in your language of preference. Do they behave as F\\# functions? What are the main differences you see?"
   ]
  },
  {
   "cell_type": "markdown",
   "metadata": {
    "dotnet_interactive": {
     "language": "csharp"
    },
    "polyglot_notebook": {
     "kernelName": "csharp"
    }
   },
   "source": [
    "> 🏋🏽 We have a function `mult2` that given a number `x` doubles that number. Without coding, can you determine what the next composite functions return when applied to 3? :\n",
    "\n",
    "```fsharp\n",
    "let f = mult2 >> next \n",
    "let g = next >> mult2 \n",
    "```\n",
    "\n",
    "Code the function `mult2` and see the result by yourself."
   ]
  },
  {
   "cell_type": "markdown",
   "metadata": {
    "lang": "es"
   },
   "source": [
    "Algunas observaciones finales por ahora sobre las funciones. Primero, tenga en cuenta que el lenguaje usa la misma palabra clave `let` para vincular valores y funciones simples a un nombre o identificador. Esto enfatiza el hecho de que en las funciones de F# son valores 'solo' y se pueden tratar de la misma manera que, por ejemplo, un enlace más simple de una expresión a un identificador.\n",
    "En segundo lugar, las propiedades de las funciones que se discutieron anteriormente coinciden perfectamente con la inmutabilidad. De hecho, las funciones reciben entradas inmutables y devuelven un valor inmutable."
   ]
  },
  {
   "cell_type": "markdown",
   "metadata": {
    "dotnet_interactive": {
     "language": "csharp"
    },
    "polyglot_notebook": {
     "kernelName": "csharp"
    }
   },
   "source": [
    "> Checkout [the Jupyter notebook companion of this guide](https://github.com/fcolavecchia/fp-course/blob/main/en/Functions.ipynb).\n"
   ]
  }
 ],
 "metadata": {
  "kernelspec": {
   "display_name": ".NET (C#)",
   "language": "C#",
   "name": ".net-csharp"
  },
  "language_info": {
   "file_extension": ".cs",
   "mimetype": "text/x-csharp",
   "name": "C#",
   "pygments_lexer": "csharp",
   "version": "8.0"
  },
  "nbTranslate": {
   "displayLangs": [
    "es",
    "en"
   ],
   "hotkey": "alt-t",
   "langInMainMenu": true,
   "sourceLang": "en",
   "targetLang": "es",
   "useGoogleTranslate": true
  },
  "polyglot_notebook": {
   "kernelInfo": {
    "defaultKernelName": "csharp",
    "items": [
     {
      "aliases": [
       "c#",
       "C#"
      ],
      "languageName": "C#",
      "name": "csharp"
     },
     {
      "aliases": [
       "frontend"
      ],
      "languageName": null,
      "name": "vscode"
     },
     {
      "aliases": [
       "f#",
       "F#"
      ],
      "languageName": "F#",
      "name": "fsharp"
     },
     {
      "aliases": [],
      "languageName": "HTML",
      "name": "html"
     },
     {
      "aliases": [],
      "languageName": "Mermaid",
      "name": "mermaid"
     },
     {
      "aliases": [
       "powershell"
      ],
      "languageName": "PowerShell",
      "name": "pwsh"
     },
     {
      "aliases": [],
      "name": "value"
     },
     {
      "aliases": [
       "js"
      ],
      "languageName": "JavaScript",
      "name": "javascript"
     },
     {
      "aliases": [],
      "name": "webview"
     }
    ]
   }
  }
 },
 "nbformat": 4,
 "nbformat_minor": 2
}

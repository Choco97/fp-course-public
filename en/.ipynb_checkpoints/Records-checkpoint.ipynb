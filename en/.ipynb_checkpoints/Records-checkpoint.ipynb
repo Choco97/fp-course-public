{
 "cells": [
  {
   "cell_type": "markdown",
   "metadata": {
    "dotnet_interactive": {
     "language": "csharp"
    },
    "lang": "en",
    "polyglot_notebook": {
     "kernelName": "csharp"
    }
   },
   "source": [
    "## Records\n",
    "\n",
    "Dealing with entities that do not belong to well predefined group of cases.\n",
    "\n",
    "We presented before the need to aggregate useful information of some entities that cannot be restricted to have some specific types, for example, the data of a credit card. \n",
    "\n",
    "Pretty much any high level language provides a way to define such types. In C language one has the `struct` type, in Python a class without methods (or a [named tuple](https://docs.python.org/3/library/collections.html#collections.namedtuple)), etc. This type in F\\# is called a _record_. "
   ]
  },
  {
   "cell_type": "markdown",
   "metadata": {
    "lang": "es"
   },
   "source": [
    "## Registros\n",
    "\n",
    "Tratar con entidades que no pertenecen a un grupo de casos bien predefinido.\n",
    "\n",
    "Presentábamos antes la necesidad de agregar información útil de algunas entidades que no se puede restringir a tener unos tipos específicos, por ejemplo, los datos de una tarjeta de crédito.\n",
    "\n",
    "Prácticamente cualquier lenguaje de alto nivel proporciona una forma de definir dichos tipos. En lenguaje C uno tiene el tipo `struct`, en Python una clase sin métodos (o una [tupla con nombre](https://docs.python.org/3/library/collections.html#collections.namedtuple)), etc. Este tipo en F\\# se denomina _registro_."
   ]
  },
  {
   "cell_type": "code",
   "execution_count": 1,
   "metadata": {
    "dotnet_interactive": {
     "language": "fsharp"
    },
    "polyglot_notebook": {
     "kernelName": "fsharp"
    },
    "vscode": {
     "languageId": "polyglot-notebook"
    }
   },
   "outputs": [],
   "source": [
    "type CreditCard =\n",
    "    {\n",
    "        HoldersName : string\n",
    "        Number: string\n",
    "        ExpirationDateMonth: uint8 \n",
    "        ExpirationDateYear: uint8 \n",
    "        CVV: uint16\n",
    "    }"
   ]
  },
  {
   "cell_type": "markdown",
   "metadata": {
    "dotnet_interactive": {
     "language": "fsharp"
    },
    "lang": "en",
    "polyglot_notebook": {
     "kernelName": "fsharp"
    }
   },
   "source": [
    "The record uses curly braces to aggregate the different components of the type. Each component has a label (`HoldersName`, `Number`, etc.) and a type associated with it. \n",
    "To create a record, one needs to define all and every component:"
   ]
  },
  {
   "cell_type": "markdown",
   "metadata": {
    "lang": "es"
   },
   "source": [
    "El record utiliza llaves para agregar los diferentes componentes del tipo. Cada componente tiene una etiqueta (`HoldersName`, `Number`, etc.) y un tipo asociado a él.\n",
    "Para crear un record, es necesario definir todos y cada uno de los componentes:"
   ]
  },
  {
   "cell_type": "code",
   "execution_count": 2,
   "metadata": {
    "dotnet_interactive": {
     "language": "fsharp"
    },
    "polyglot_notebook": {
     "kernelName": "fsharp"
    },
    "vscode": {
     "languageId": "polyglot-notebook"
    }
   },
   "outputs": [],
   "source": [
    "let doeCard = \n",
    "    {\n",
    "        HoldersName = \"John Doe\"\n",
    "        Number = \"1234 5678 9101 1121\"\n",
    "        ExpirationDateMonth = 12uy\n",
    "        ExpirationDateYear = 23uy \n",
    "        CVV = 111us \n",
    "    }\n"
   ]
  },
  {
   "cell_type": "markdown",
   "metadata": {
    "dotnet_interactive": {
     "language": "fsharp"
    },
    "lang": "en",
    "polyglot_notebook": {
     "kernelName": "fsharp"
    }
   },
   "source": [
    "> 🔔 Note the suffix `uy` for unsigned integers of 8 bits (`uint8`) and `us` for their 16 bits partner (`uint16`)."
   ]
  },
  {
   "cell_type": "markdown",
   "metadata": {
    "lang": "es"
   },
   "source": [
    "> 🔔 Tenga en cuenta el sufijo `uy` para enteros sin signo de 8 bits (`uint8`) y `us` para su compañero de 16 bits (`uint16`)."
   ]
  },
  {
   "cell_type": "markdown",
   "metadata": {
    "dotnet_interactive": {
     "language": "fsharp"
    },
    "lang": "en",
    "polyglot_notebook": {
     "kernelName": "fsharp"
    }
   },
   "source": [
    "Instead of indenting the definition, one can write all the components together, separated by `;`:"
   ]
  },
  {
   "cell_type": "markdown",
   "metadata": {
    "lang": "es"
   },
   "source": [
    "En lugar de indentar la definición, uno puede escribir todos los componentes juntos, separados por `;`:"
   ]
  },
  {
   "cell_type": "code",
   "execution_count": 3,
   "metadata": {
    "dotnet_interactive": {
     "language": "fsharp"
    },
    "polyglot_notebook": {
     "kernelName": "fsharp"
    },
    "vscode": {
     "languageId": "polyglot-notebook"
    }
   },
   "outputs": [
    {
     "name": "stdout",
     "output_type": "stream",
     "text": [
      "{ HoldersName = \"John Doe\"\n",
      "  Number = \"1234 5678 9101 1121\"\n",
      "  ExpirationDateMonth = 12uy\n",
      "  ExpirationDateYear = 23uy\n",
      "  CVV = 111us }\n"
     ]
    }
   ],
   "source": [
    "let doeFakeCard = { HoldersName = \"John Doe\"; Number = \"1234 5678 9101 1121\"; ExpirationDateMonth = 12uy; ExpirationDateYear = 23uy ; CVV = 111us}\n",
    "\n",
    "printfn \"%A\" doeFakeCard    "
   ]
  },
  {
   "cell_type": "markdown",
   "metadata": {
    "dotnet_interactive": {
     "language": "fsharp"
    },
    "lang": "en",
    "polyglot_notebook": {
     "kernelName": "fsharp"
    }
   },
   "source": [
    "but as one can sees that this is suitable [only for small records](https://learn.microsoft.com/en-us/dotnet/fsharp/style-guide/formatting#formatting-record-expressions).\n",
    "\n",
    "What happens if John Doe's card expires and needs to be replaced by a new one? \n",
    "As with all other values in the language, records are _inmutable_, so it is not possible to update `doeCard` in place. To do that, we need to create another, new value. F\\# provides a way to _copy and update_ a record value, that enables us to change just the components that need to be changed in a record. Assuming that the new card keeps the number (and, of course, the cardholder's name), we would have:"
   ]
  },
  {
   "cell_type": "markdown",
   "metadata": {
    "lang": "es"
   },
   "source": [
    "pero como se puede ver, esto es adecuado [solo para registros pequeños] (https://learn.microsoft.com/en-us/dotnet/fsharp/style-guide/formatting#formatting-record-expressions).\n",
    "\n",
    "¿Qué sucede si la tarjeta de John Doe vence y necesita ser reemplazada por una nueva?\n",
    "Al igual que con todos los demás valores en el idioma, los registros son _inmutables_, por lo que no es posible actualizar `doeCard` en su lugar. Para hacer eso, necesitamos crear otro valor nuevo. F\\# proporciona una forma de _copiar y actualizar_ un valor de record, que nos permite cambiar solo los componentes que deben cambiarse en un record. Suponiendo que la nueva tarjeta mantenga el número (y, por supuesto, el nombre del titular de la tarjeta), tendríamos:"
   ]
  },
  {
   "cell_type": "code",
   "execution_count": 4,
   "metadata": {
    "dotnet_interactive": {
     "language": "fsharp"
    },
    "polyglot_notebook": {
     "kernelName": "fsharp"
    },
    "vscode": {
     "languageId": "polyglot-notebook"
    }
   },
   "outputs": [
    {
     "name": "stdout",
     "output_type": "stream",
     "text": [
      "{ HoldersName = \"John Doe\"\n",
      "  Number = \"1234 5678 9101 1121\"\n",
      "  ExpirationDateMonth = 12uy\n",
      "  ExpirationDateYear = 25uy\n",
      "  CVV = 222us }\n"
     ]
    }
   ],
   "source": [
    "let newDoeCard = \n",
    "    { doeCard with \n",
    "        ExpirationDateMonth = 12uy\n",
    "        ExpirationDateYear = 25uy\n",
    "        CVV = 222us \n",
    "    }\n",
    "\n",
    "printfn \"%A\" newDoeCard    "
   ]
  },
  {
   "cell_type": "markdown",
   "metadata": {
    "dotnet_interactive": {
     "language": "fsharp"
    },
    "lang": "en",
    "polyglot_notebook": {
     "kernelName": "fsharp"
    }
   },
   "source": [
    "One uses again curly braces to express the record type, then the old value `doeCard` that will be updated `with` the components that need to be updated. \n",
    "\n",
    "To access a specific component of a record, one uses again the `.`, as we did with discriminated unions:"
   ]
  },
  {
   "cell_type": "markdown",
   "metadata": {
    "lang": "es"
   },
   "source": [
    "Uno usa nuevamente llaves para expresar el tipo de record, luego el valor antiguo `doeCard` que se actualizará `con` los componentes que necesitan ser actualizados.\n",
    "\n",
    "Para acceder a un componente específico de un record, se usa nuevamente `.`, como hicimos con las uniones discriminadas:"
   ]
  },
  {
   "cell_type": "code",
   "execution_count": 5,
   "metadata": {
    "dotnet_interactive": {
     "language": "fsharp"
    },
    "polyglot_notebook": {
     "kernelName": "fsharp"
    },
    "vscode": {
     "languageId": "polyglot-notebook"
    }
   },
   "outputs": [
    {
     "name": "stdout",
     "output_type": "stream",
     "text": [
      "John's Does card number: \"1234 5678 9101 1121\"\n",
      "John's Does card CVV: 222us\n"
     ]
    }
   ],
   "source": [
    "printfn \"John's Does card number: %A\" newDoeCard.Number \n",
    "printfn \"John's Does card CVV: %A\" newDoeCard.CVV"
   ]
  },
  {
   "cell_type": "markdown",
   "metadata": {
    "dotnet_interactive": {
     "language": "fsharp"
    },
    "lang": "en",
    "polyglot_notebook": {
     "kernelName": "fsharp"
    }
   },
   "source": [
    "## Mixing types \n",
    "\n",
    "Discriminated union and record are the two ways one can represent entities in the language. One can build all sort of complex types by mixing them, it is up to the programmer how to combine this smaller bricks to model the domain. \n",
    "\n",
    "For example, one can put together the expiration date in its own type:"
   ]
  },
  {
   "cell_type": "markdown",
   "metadata": {
    "lang": "es"
   },
   "source": [
    "## Tipos de mezcla\n",
    "\n",
    "La unión discriminada y el record son las dos formas en que uno puede representar entidades en el lenguaje. Uno puede construir todo tipo de tipos complejos mezclándolos, depende del programador cómo combinar estos ladrillos más pequeños para modelar el dominio.\n",
    "\n",
    "Por ejemplo, uno puede juntar la fecha de vencimiento en su propio tipo:"
   ]
  },
  {
   "cell_type": "code",
   "execution_count": 6,
   "metadata": {
    "dotnet_interactive": {
     "language": "fsharp"
    },
    "polyglot_notebook": {
     "kernelName": "fsharp"
    },
    "vscode": {
     "languageId": "polyglot-notebook"
    }
   },
   "outputs": [],
   "source": [
    "type ExpirationDate =\n",
    "    { \n",
    "        Month : uint8\n",
    "        Year : uint8 \n",
    "    }"
   ]
  },
  {
   "cell_type": "markdown",
   "metadata": {
    "dotnet_interactive": {
     "language": "fsharp"
    },
    "lang": "en",
    "polyglot_notebook": {
     "kernelName": "fsharp"
    }
   },
   "source": [
    "That would give us a cleaner `CreditCard2` type:"
   ]
  },
  {
   "cell_type": "markdown",
   "metadata": {
    "lang": "es"
   },
   "source": [
    "Eso nos daría un tipo `CreditCard2` más limpio:"
   ]
  },
  {
   "cell_type": "code",
   "execution_count": 7,
   "metadata": {
    "dotnet_interactive": {
     "language": "fsharp"
    },
    "polyglot_notebook": {
     "kernelName": "fsharp"
    },
    "vscode": {
     "languageId": "polyglot-notebook"
    }
   },
   "outputs": [],
   "source": [
    "type CreditCard2 =\n",
    "    {\n",
    "        HoldersName : string\n",
    "        Number: string\n",
    "        ExpirationDate: ExpirationDate \n",
    "        CVV: uint16\n",
    "    }"
   ]
  },
  {
   "cell_type": "markdown",
   "metadata": {
    "dotnet_interactive": {
     "language": "fsharp"
    },
    "lang": "en",
    "polyglot_notebook": {
     "kernelName": "fsharp"
    }
   },
   "source": [
    "For the vending machine, one can write"
   ]
  },
  {
   "cell_type": "markdown",
   "metadata": {
    "lang": "es"
   },
   "source": [
    "Para la máquina expendedora, se puede escribir"
   ]
  },
  {
   "cell_type": "code",
   "execution_count": 8,
   "metadata": {
    "dotnet_interactive": {
     "language": "fsharp"
    },
    "polyglot_notebook": {
     "kernelName": "fsharp"
    },
    "vscode": {
     "languageId": "polyglot-notebook"
    }
   },
   "outputs": [],
   "source": [
    "type FoodProduct =\n",
    "    | Chips\n",
    "    | Chocolate\n",
    "    | Candy \n",
    "\n",
    "type BrandedFood =\n",
    "    | Chips of string \n",
    "    | Chocolate of string \n",
    "    | Candy of string     \n",
    "\n",
    "type FoodMachineItem =\n",
    "    {\n",
    "        Brand: BrandedFood\n",
    "        ProductType: FoodProduct \n",
    "        Price: float \n",
    "    }"
   ]
  },
  {
   "cell_type": "code",
   "execution_count": 9,
   "metadata": {
    "dotnet_interactive": {
     "language": "fsharp"
    },
    "polyglot_notebook": {
     "kernelName": "fsharp"
    },
    "vscode": {
     "languageId": "polyglot-notebook"
    }
   },
   "outputs": [],
   "source": [
    "let sourCandy = {\n",
    "    Brand = BrandedFood.Candy \"TearDrops\"\n",
    "    ProductType = FoodProduct.Candy \n",
    "    Price = 2.39\n",
    "}"
   ]
  },
  {
   "cell_type": "markdown",
   "metadata": {
    "dotnet_interactive": {
     "language": "fsharp"
    },
    "lang": "en",
    "polyglot_notebook": {
     "kernelName": "fsharp"
    }
   },
   "source": [
    "Notice that we need to specify completely the type in the `ProductType` component, by using `FoodProduct.Candy`. This is to avoid the collision with the case `Candy of string` in the BrandedFood type. Do not worry! The compiler behind will get you covered, signaling the problem:"
   ]
  },
  {
   "cell_type": "markdown",
   "metadata": {
    "lang": "es"
   },
   "source": [
    "Note que necesitamos especificar completamente el tipo en el componente `ProductType`, usando `FoodProduct.Candy`. Esto es para evitar la colisión con el caso `Candy of string` en el tipo BrandedFood. ¡No te preocupes! El compilador detrás lo cubrirá, señalando el problema:"
   ]
  },
  {
   "cell_type": "code",
   "execution_count": 10,
   "metadata": {
    "dotnet_interactive": {
     "language": "fsharp"
    },
    "polyglot_notebook": {
     "kernelName": "fsharp"
    },
    "vscode": {
     "languageId": "polyglot-notebook"
    }
   },
   "outputs": [
    {
     "ename": "Error",
     "evalue": "input.fsx (3,19)-(3,24) typecheck error This expression was expected to have type\n    'FoodProduct'    \nbut here has type\n    'string -> BrandedFood'    ",
     "output_type": "error",
     "traceback": [
      "input.fsx (3,19)-(3,24) typecheck error This expression was expected to have type\n",
      "    'FoodProduct'    \n",
      "but here has type\n",
      "    'string -> BrandedFood'    "
     ]
    }
   ],
   "source": [
    "let sourCandyWithCollision = {\n",
    "    Brand = BrandedFood.Candy \"TearDrops\"\n",
    "    ProductType = Candy \n",
    "    Price = 2.39\n",
    "}"
   ]
  },
  {
   "cell_type": "markdown",
   "metadata": {
    "dotnet_interactive": {
     "language": "fsharp"
    },
    "lang": "en",
    "polyglot_notebook": {
     "kernelName": "fsharp"
    }
   },
   "source": [
    "And from here on, the sky is the limit."
   ]
  },
  {
   "cell_type": "markdown",
   "metadata": {
    "lang": "es"
   },
   "source": [
    "Y de aquí en adelante, el cielo es el límite."
   ]
  }
 ],
 "metadata": {
  "kernelspec": {
   "display_name": ".NET (C#)",
   "language": "C#",
   "name": ".net-csharp"
  },
  "language_info": {
   "file_extension": ".cs",
   "mimetype": "text/x-csharp",
   "name": "C#",
   "pygments_lexer": "csharp",
   "version": "8.0"
  },
  "nbTranslate": {
   "displayLangs": [
    "es"
   ],
   "hotkey": "alt-t",
   "langInMainMenu": true,
   "sourceLang": "en",
   "targetLang": "es",
   "useGoogleTranslate": true
  },
  "polyglot_notebook": {
   "kernelInfo": {
    "defaultKernelName": "csharp",
    "items": [
     {
      "aliases": [
       "c#",
       "C#"
      ],
      "languageName": "C#",
      "name": "csharp"
     },
     {
      "aliases": [],
      "languageName": "Mermaid",
      "name": "mermaid"
     },
     {
      "aliases": [
       "frontend"
      ],
      "languageName": null,
      "name": "vscode"
     },
     {
      "aliases": [
       "js"
      ],
      "languageName": "JavaScript",
      "name": "javascript"
     },
     {
      "aliases": [],
      "name": "webview"
     },
     {
      "aliases": [
       "powershell"
      ],
      "languageName": "PowerShell",
      "name": "pwsh"
     }
    ]
   }
  }
 },
 "nbformat": 4,
 "nbformat_minor": 2
}

{
 "cells": [
  {
   "cell_type": "markdown",
   "metadata": {
    "lang": "en",
    "vscode": {
     "languageId": "csharp"
    }
   },
   "source": [
    "## Thinking with types\n",
    "\n",
    "To completely define a function, you not only need to establish its behavior, but also its inputs and outputs. That is what _types_ are for! \n",
    "\n",
    "## Types in the real world\n",
    "\n",
    "We have covered the basics of functions in F\\#, and defined some properties that difference them from routines or procedures in other languages. We have also seen how one can combine functions together. That is the first aspect about defining functions: how they behave, and how one can encapsulate this behavior in one or several functions that can be composed to generate results. In our example, the behavior of our `vendingMachine` is to give you some product once you provided enough money and selected your treat with a keyboard. \n",
    "The second aspect that is _needed_ to define the function is what sort of inputs and outputs it has. Going back to our first example, one had a table that represented the function `carColor`, with the color of each car in parked in a block. A completely different function would be `carHorsePower`, where for each car in the block, you write down the horsepower. Clearly here the inputs of both functions are the same, the license plate, but the outputs are different. If our vending machine does not take paper bills but credit cards, the input will be different, but you still get your beloved chips, that is, the outputs of `vendingMachine` and the modern `vendingMachineWithCreditCard` are of the same kind, but the inputs are different.\n",
    "\n",
    "Then, to completely define a function, you need to specify (code...) the behavior of the function _and_ the types of inputs and outputs. These are two sides of the same coin, and one cannot live without the other. And that is where the type of inputs and a outputs of the real world need to be properly represented by your code. And that is where the language provides you with the tools to define these types. \n",
    "\n",
    "How to define the kind of inputs and outputs of your functions? To start, typically one writes down a bullet list of all the relevant characteristics of them. In the case of colors of the cars in the block, the inputs are the license plates that usually are letters and numbers, so in our code model, that would be some kind of string. How about the outputs? One can use the usual color names, as we did. That would be represented by a collection of strings.\n",
    "\n",
    "> Or, one can go for more detail and use the names of the colors [each car model has](https://www.caranddriver.com/features/g28196287/wildest-paint-colors-for-sale/). That would be a more complete collection of colors, but this also would affect the inputs of our function, because we need now also the name of the car model. Going further, the name of the color probably changes with the years model, so we would need that too. \n",
    "\n",
    "> ❓ Can you come up with the inputs and outputs of a function `carModel`? This function identifies the model of a car in the block. Start with a minimal description, and then go into more details. \n",
    "\n",
    "> ❓ Take the real world examples of functions that you wrote down in the previous chapter, and try to define their inputs and outputs.\n",
    "\n",
    "\n",
    "For our vending machine with bills, our inputs are going to be the number of bills of each denomination  introduced in the machine, and a letter and a number to determine which product the customer wants:\n",
    "\n",
    "- Number of bills of each denomination\n",
    "- A letter\n",
    "- A number \n",
    "\n",
    " The outputs are possible the products, that can be minimallistically modeled by saying\n",
    "\n",
    "- The product brand\n",
    "- The product type (chocolate, chips, etc.)\n",
    "\n",
    "and also a number of bills if the machine gives change.\n",
    "\n",
    "If we have a vending machine with credit cards, our input will be slightly different, since we need to model a credit card with\n",
    "\n",
    "- Carholder's name\n",
    "- Card number\n",
    "- Expiration date\n",
    "- CVV number \n",
    "\n",
    "A _type_ is the tool the computer languages provides to group or aggregate the properties of the model of any entity of our domain. As we all know, computers only understand only 0s and 1s bits at the lowest level, however, they are presented typically as chunks _bytes_ of 8 bits each. Putting bytes together one can have the basic types of all languages, such as integer and float numbers in all of their variations (signed or unsigned integers, integers of different size, float numbers of different sizes). Other basic types, such as strings or chars, even booleans, depend on the way each language implements them. \n",
    "\n",
    "All contemporary languages can build compound types using these basic types. For example, if we need to model a wallet, we will need a way to represent money bills, credit cards, personal id, etc. Each of these elements in turn needs also to be modeled, and so on. Therefore, the wallet will be represented as a hierarchical aggregation of simpler models that, at the very bottom of it, will resort to basic types. \n",
    "\n",
    "There is also another aspect of modelling the real world entities with types to look at. Let us go back to our examples and examine how we can map each of the properties of our models into simpler types. Clearly the cardholder's name of a credit card can be a string, the expiration date is, well, a date. \n",
    "How about the type of the product? In principle can also be a string too. However, it seems that one can be more specific: for a food vending machine, one can make a bullet list of the possible food types:\n",
    "\n",
    "- chips\n",
    "- chocolate\n",
    "- candy\n",
    "\n",
    "and so on. There are also electronics vending machines, so one would have\n",
    "\n",
    "- phone\n",
    "- speakers\n",
    "- headphones\n",
    "etc. \n",
    "\n",
    "The bullet list can be long, but probably one can write it down in a page (or, maybe it is provided by your vending machine client). \n",
    "\n",
    "It looks like one can classify the features of inputs and outputs more broadly. On one hand, the cardholder's name of a credit card and expiration dates are huge collections that can not be determined _a priori_. On the other hand, we have some features that belong to a well predefined group of different cases (car colors, types of products). Notice also that these two kind of types can be compound together in inputs or outputs, like in the wallet model. \n",
    "\n",
    "One of the greatest features of F\\# is that provides precise ways to implement these two kind of types. In the next sections we will see how to build these inputs and outputs in F\\#.\n",
    "\n",
    "By the way, the keyword that F\\# uses to build complex types is, of course, `type` ;-D. \n"
   ]
  },
  {
   "cell_type": "markdown",
   "metadata": {
    "lang": "es"
   },
   "source": [
    "## Pensar con tipos\n",
    "\n",
    "Para definir completamente una función, no solo necesita establecer su comportamiento, sino también sus entradas y salidas. ¡Para eso están los _tipos_!\n",
    "\n",
    "## Tipos en el mundo real\n",
    "\n",
    "Hemos cubierto los conceptos básicos de las funciones en F\\# y hemos definido algunas propiedades que las diferencian de las rutinas o procedimientos en otros lenguajes. También hemos visto cómo se pueden combinar funciones. Ese es el primer aspecto sobre la definición de funciones: cómo se comportan y cómo se puede encapsular este comportamiento en una o varias funciones que se pueden componer para generar resultados. En nuestro ejemplo, el comportamiento de nuestra `VendingMachine` es darle algún producto una vez que proporcionó suficiente dinero y seleccionó su regalo con un teclado.\n",
    "El segundo aspecto que es _necesario_ para definir la función es qué tipo de entradas y salidas tiene. Volviendo a nuestro primer ejemplo, uno tenía una tabla que representaba la función `carColor`, con el color de cada coche estacionado en un bloque. Una función completamente diferente sería `carHorsePower`, donde para cada automóvil en el bloque, escribe la potencia. Claramente aquí las entradas de ambas funciones son las mismas, la matrícula, pero las salidas son diferentes. Si nuestra máquina expendedora no acepta billetes en papel sino tarjetas de crédito, la entrada será diferente, pero aún obtendrá sus queridos chips, es decir, las salidas de `vendingMachine` y la moderna `vendingMachineWithCreditCard` son del mismo tipo, pero el las entradas son diferentes\n",
    "\n",
    "Luego, para definir completamente una función, necesita especificar (codificar...) el comportamiento de la función _y_ los tipos de entradas y salidas. Estas son las dos caras de la misma moneda, y una no puede vivir sin la otra. Y ahí es donde el código debe representar correctamente el tipo de entradas y salidas del mundo real. Y ahí es donde el lenguaje te proporciona las herramientas para definir estos tipos.\n",
    "\n",
    "¿Cómo definir el tipo de entradas y salidas de sus funciones? Para empezar, normalmente se escribe una lista con viñetas de todas las características relevantes de ellos. En el caso de los colores de los autos en el bloque, las entradas son las matrículas que generalmente son letras y números, por lo que en nuestro modelo de código, eso sería una especie de cadena. ¿Qué hay de las salidas? Se pueden usar los nombres de colores habituales, como hicimos nosotros. Eso estaría representado por una colección de cadenas.\n",
    "\n",
    "> O, uno puede obtener más detalles y usar los nombres de los colores [que tiene cada modelo de automóvil] (https://www.caranddriver.com/features/g28196287/wildest-paint-colors-for-sale/). Esa sería una colección de colores más completa, pero esto también afectaría las entradas de nuestra función, porque ahora también necesitamos el nombre del modelo de automóvil. Yendo más allá, el nombre del color probablemente cambie con los años del modelo, por lo que también lo necesitaríamos.\n",
    "\n",
    "> ❓ ¿Se te ocurren las entradas y salidas de una función `carModel`? Esta función identifica el modelo de un automóvil en el bloque. Comience con una descripción mínima y luego entre en más detalles.\n",
    "\n",
    "> ❓ Tome los ejemplos del mundo real de las funciones que anotó en el capítulo anterior e intente definir sus entradas y salidas.\n",
    "\n",
    "\n",
    "Para nuestra máquina expendedora de billetes, nuestras entradas van a ser el número de billetes de cada denominación introducidos en la máquina, y una letra y un número para determinar qué producto quiere el cliente:\n",
    "\n",
    "- Número de billetes de cada denominación\n",
    "- Una carta\n",
    "- Un número\n",
    "\n",
    " Las salidas son posibles los productos, que se pueden modelar de forma minimalista diciendo\n",
    "\n",
    "- La marca del producto\n",
    "- El tipo de producto (chocolate, patatas fritas, etc.)\n",
    "\n",
    "y también una cantidad de billetes si la máquina da cambio.\n",
    "\n",
    "Si tenemos una máquina expendedora con tarjetas de crédito, nuestra entrada será ligeramente diferente, ya que necesitamos modelar una tarjeta de crédito con\n",
    "\n",
    "- Nombre del titular del coche\n",
    "- Número de tarjeta\n",
    "- Fecha de caducidad\n",
    "- Número CVV\n",
    "\n",
    "Un _tipo_ es la herramienta que proporcionan los lenguajes informáticos para agrupar o agregar las propiedades del modelo de cualquier entidad de nuestro dominio. Como todos sabemos, las computadoras solo entienden los bits 0 y 1 en el nivel más bajo, sin embargo, se presentan típicamente como fragmentos _bytes_ de 8 bits cada uno. Juntando bytes se pueden tener los tipos básicos de todos los lenguajes, como números enteros y flotantes en todas sus variaciones (enteros con o sin signo, enteros de diferente tamaño, números flotantes de diferentes tamaños). Otros tipos básicos, como cadenas o caracteres, incluso booleanos, dependen de la forma en que cada idioma los implemente.\n",
    "\n",
    "Todos los lenguajes contemporáneos pueden construir tipos compuestos usando estos tipos básicos. Por ejemplo, si necesitamos modelar una billetera, necesitaremos una forma de representar billetes, tarjetas de crédito, identificación personal, etc. Cada uno de estos elementos a su vez también debe modelarse, y así sucesivamente. Por lo tanto, la billetera se representará como una agregación jerárquica de modelos más simples que, en el fondo de la misma, recurrirán a tipos básicos.\n",
    "\n",
    "También hay otro aspecto de modelar las entidades del mundo real con tipos para mirar. Volvamos a nuestros ejemplos y examinemos cómo podemos mapear cada una de las propiedades de nuestros modelos en tipos más simples. Claramente, el nombre del titular de una tarjeta de crédito puede ser una cadena, la fecha de vencimiento es, bueno, una fecha.\n",
    "¿Qué tal el tipo de producto? En principio también puede ser una cadena también. Sin embargo, parece que uno puede ser más específico: para una máquina expendedora de alimentos, se puede hacer una lista de viñetas de los posibles tipos de alimentos:\n",
    "\n",
    "- papas fritas\n",
    "- chocolate\n",
    "- dulce\n",
    "\n",
    "etcétera. También hay máquinas expendedoras de productos electrónicos, por lo que habría que\n",
    "\n",
    "- teléfono\n",
    "- Altavoces\n",
    "- auriculares\n",
    "etc.\n",
    "\n",
    "La lista de viñetas puede ser larga, pero probablemente uno pueda escribirla en una página (o tal vez la proporcione el cliente de su máquina expendedora).\n",
    "\n",
    "Parece que uno puede clasificar las características de las entradas y salidas de manera más amplia. Por un lado, el nombre del titular de una tarjeta de crédito y las fechas de vencimiento son cobros enormes que no se pueden determinar _a priori_. Por otro lado, tenemos algunas características que pertenecen a un grupo bien predefinido de diferentes casos (colores de automóviles, tipos de productos). Tenga en cuenta también que estos dos tipos de tipos pueden combinarse en entradas o salidas, como en el modelo de billetera.\n",
    "\n",
    "Una de las mejores características de F\\# es que proporciona formas precisas de implementar estos dos tipos. En las próximas secciones veremos cómo construir estas entradas y salidas en F\\#.\n",
    "\n",
    "Por cierto, la palabra clave que usa F\\# para construir tipos complejos es, por supuesto, `tipo` ;-D."
   ]
  },
  {
   "cell_type": "markdown",
   "metadata": {
    "lang": "en"
   },
   "source": [
    "## Annotating types and type inference\n",
    "\n",
    "We have lightly defined some values before: "
   ]
  },
  {
   "cell_type": "markdown",
   "metadata": {
    "lang": "es"
   },
   "source": [
    "## Anotación de tipos e inferencia de tipos\n",
    "\n",
    "Hemos definido ligeramente algunos valores antes:"
   ]
  },
  {
   "cell_type": "code",
   "execution_count": 1,
   "metadata": {
    "dotnet_interactive": {
     "language": "fsharp"
    }
   },
   "outputs": [],
   "source": [
    "let a = 1.0 + 3.0 // floats \n",
    "let s = \"this is a string\" \n",
    "let l = [1 ; 2 ; 3] // A list of integers \n",
    "let m = (\"Messi\",10) // A tuple of a string and a number \n",
    "let t = true // A bool "
   ]
  },
  {
   "cell_type": "markdown",
   "metadata": {
    "lang": "en"
   },
   "source": [
    "which, except for the use of the `let` keyword (and the fact that they are inmutable!), can look quite familiar to, for example, Python: one uses the name of the value, the equal sign and the expression that will be assigned to the value in the right hand side. There is no declaration of _which_ type the value is! But we already stated that the language uses static types, so how the language knows which type each value has? \n",
    "\n",
    "If you hover your mouse over each of the values above, you can see something like this:\n",
    "\n",
    "<img src=\"../img/type_inference.png\" alt=\"Type inference\" width=\"400\"/>\n",
    "\n",
    "\n",
    "That box contains the type of the value `a` that has been _inferred_ by the compiler. Yes, when you code in a F\\# supported IDE, there will be an F\\# compiler digesting your code as you write it, and exploring which types are you working with. In the vast majority of the cases, the compiler guess is correct. There are some cases where it cannot infer the type from your code's context. In that case, you will see some red wiggles underlining your variable, and a warning message:\n",
    "\n",
    "<img src=\"../img/indeterminate_lookup.png\" alt=\"Indeterminate lookup\" width=\"800\"/>\n",
    "\n",
    "\n",
    "that says exactly that: the compiler does not know which type needs to assign to the troubled value.\n",
    "\n",
    "So, in general, one does not explicitly define the types of the values, and that task is delegated to the compiler behind scenes. However, one can annotate the type as: "
   ]
  },
  {
   "cell_type": "markdown",
   "metadata": {
    "lang": "es"
   },
   "source": [
    "que, excepto por el uso de la palabra clave `let` (¡y el hecho de que son inmutables!), puede resultar bastante familiar, por ejemplo, para Python: uno usa el nombre del valor, el signo igual y la expresión que asignarse al valor en el lado derecho. ¡No hay declaración de _qué tipo_ es el valor! Pero ya dijimos que el lenguaje usa tipos estáticos, entonces, ¿cómo sabe el lenguaje qué tipo tiene cada valor?\n",
    "\n",
    "Si pasa el mouse sobre cada uno de los valores anteriores, puede ver algo como esto:\n",
    "\n",
    "<img src=\"../img/type_inference.png\" alt=\"Type inference\" width=\"400\"/>\n",
    "\n",
    "\n",
    "Ese cuadro contiene el tipo del valor `a` que ha sido _inferido_ por el compilador. Sí, cuando codifica en un IDE compatible con F\\#, habrá un compilador de F\\# que digiere su código a medida que lo escribe y explora con qué tipos está trabajando. En la gran mayoría de los casos, la suposición del compilador es correcta. Hay algunos casos en los que no puede inferir el tipo del contexto de su código. En ese caso, verá algunas ondulaciones rojas que subrayan su variable y un mensaje de advertencia:\n",
    "\n",
    "<img src=\"../img/indeterminate_lookup.png\" alt=\"Indeterminate lookup\" width=\"800\"/>\n",
    "\n",
    "\n",
    "eso dice exactamente eso: el compilador no sabe qué tipo necesita asignar al valor problemático.\n",
    "\n",
    "Entonces, en general, uno no define explícitamente los tipos de los valores, y esa tarea se delega al compilador detrás de escena. Sin embargo, uno puede anotar el tipo como:"
   ]
  },
  {
   "cell_type": "code",
   "execution_count": 2,
   "metadata": {
    "dotnet_interactive": {
     "language": "fsharp"
    }
   },
   "outputs": [],
   "source": [
    "let aa: float = 1.0 + 3.0 // floats \n",
    "let ss: string = \"this is a string\" \n",
    "let ll: int list = [1 ; 2 ; 3] // A list of integers \n",
    "let mm: string * int = (\"Messi\",10) // A tuple of a string and a number \n",
    "let tt: bool = true // A bool "
   ]
  },
  {
   "cell_type": "markdown",
   "metadata": {
    "lang": "en"
   },
   "source": [
    "One uses the `:<type>` annotation to define the types of each value. In the case of functions one also uses `:<type>` just after defining all the inputs:"
   ]
  },
  {
   "cell_type": "markdown",
   "metadata": {
    "lang": "es"
   },
   "source": [
    "Uno usa la anotación `:<type>` para definir los tipos de cada valor. En el caso de las funciones, también se usa `:<type>` justo después de definir todas las entradas:"
   ]
  },
  {
   "cell_type": "code",
   "execution_count": 3,
   "metadata": {
    "dotnet_interactive": {
     "language": "fsharp"
    }
   },
   "outputs": [],
   "source": [
    "let sum a b : int = \n",
    "    a + b "
   ]
  },
  {
   "cell_type": "markdown",
   "metadata": {
    "lang": "en"
   },
   "source": [
    "A closer look at the function above leads us to another interesting notation. Hovering over `sum` we see:\n",
    "\n",
    "<img src=\"../img/function_types.png\" alt=\"Function types\" width=\"300\"/>\n",
    "\n",
    "The compiler says us that the function `sum` is of type \n",
    "```fsharp\n",
    "int -> int -> int \n",
    "```\n",
    "that is, it receives two `int`s as input and returns an `int` as output. We only needed to explicitly type the output of the function, and the compiler determined that both inputs are `int`s. That is because the sum operator `+` needs two values of the _same_ type, and there is no implicit promotion of types in the language:"
   ]
  },
  {
   "cell_type": "markdown",
   "metadata": {
    "lang": "es"
   },
   "source": [
    "Una mirada más cercana a la función anterior nos lleva a otra notación interesante. Al pasar el cursor sobre `sum` vemos:\n",
    "\n",
    "<img src=\"../img/function_types.png\" alt=\"Function types\" width=\"300\"/>\n",
    "\n",
    "El compilador nos dice que la función `suma` es del tipo\n",
    "```fagudo\n",
    "int -> int -> int\n",
    "```\n",
    "es decir, recibe dos `int`s como entrada y devuelve un `int` como salida. Solo necesitábamos escribir explícitamente la salida de la función, y el compilador determinó que ambas entradas son `int`s. Esto se debe a que el operador de suma `+` necesita dos valores del tipo _mismo_, y no hay una promoción implícita de tipos en el lenguaje:"
   ]
  },
  {
   "cell_type": "code",
   "execution_count": 4,
   "metadata": {
    "dotnet_interactive": {
     "language": "fsharp"
    }
   },
   "outputs": [
    {
     "ename": "Error",
     "evalue": "input.fsx (2,14)-(2,17) typecheck error The type 'float' does not match the type 'int'\ninput.fsx (2,12)-(2,13) typecheck error The type 'float' does not match the type 'int'",
     "output_type": "error",
     "traceback": [
      "input.fsx (2,14)-(2,17) typecheck error The type 'float' does not match the type 'int'\n",
      "input.fsx (2,12)-(2,13) typecheck error The type 'float' does not match the type 'int'"
     ]
    }
   ],
   "source": [
    "let si = 2 + 3 \n",
    "let sf = 2 + 3.0 "
   ]
  },
  {
   "cell_type": "markdown",
   "metadata": {
    "lang": "en"
   },
   "source": [
    "> 🔔 Looking at the signature  `int -> int -> int` of the function `sum` it does not seem clear which are the inputs and which are the outputs. From the definition of the function we know that it receives two inputs and returns another one, but the signature is completely oblivious to this, and uses the same `->` symbol between all the types. Could `sum` be a function that receives an `int` and returns `int -> int`, which is itself a function? The answer is yes, and is called _currying_. \n",
    "We will come back later to currying when we revisit functions."
   ]
  },
  {
   "cell_type": "markdown",
   "metadata": {
    "lang": "es"
   },
   "source": [
    "> 🔔 Mirando la firma `int -> int -> int` de la función `sum` no parece claro cuáles son las entradas y cuáles las salidas. Por la definición de la función sabemos que recibe dos entradas y devuelve otra, pero la firma es completamente ajena a esto y usa el mismo símbolo `->` entre todos los tipos. ¿Podría `sum` ser una función que recibe un `int` y devuelve `int -> int`, que en sí mismo es una función? La respuesta es sí, y se llama _currying_.\n",
    "Volveremos más tarde a curry cuando revisemos las funciones."
   ]
  },
  {
   "cell_type": "markdown",
   "metadata": {},
   "source": [
    "One can fully define the types of the input variables together with the output:"
   ]
  },
  {
   "cell_type": "code",
   "execution_count": 5,
   "metadata": {
    "dotnet_interactive": {
     "language": "fsharp"
    }
   },
   "outputs": [],
   "source": [
    "let sumf (a:float) (b:float) : float = \n",
    "    a + b "
   ]
  },
  {
   "cell_type": "markdown",
   "metadata": {
    "lang": "en"
   },
   "source": [
    "The parenthesis are used to associate each input value with its type. One does not need to annotate all the inputs of a function, just those ones that confuse the compiler or your fellow developer, or just you in the future. "
   ]
  },
  {
   "cell_type": "markdown",
   "metadata": {
    "lang": "es"
   },
   "source": [
    "Los paréntesis se utilizan para asociar cada valor de entrada con su tipo. No es necesario anotar todas las entradas de una función, solo aquellas que confunden al compilador o a su compañero desarrollador, o solo a usted en el futuro."
   ]
  },
  {
   "cell_type": "markdown",
   "metadata": {
    "lang": "en"
   },
   "source": [
    "### The `unit` type and a first contact with side effects\n",
    "\n",
    "The list of all basic types in F\\# can be found [here](https://learn.microsoft.com/en-us/dotnet/fsharp/language-reference/basic-types). Beside the usual `bool`, `char`, `string` and all the various numeric numbers, there is one that is called `unit`. \n",
    "\n",
    "The `unit` type has only one possible value `()`, and is used to represent that there is no type. \n",
    "\n",
    "Although it may seem obscure at first, the language provides this feature to deal, for example, with those things that happen in the code that do not return anything. For example, the function `printfn`:"
   ]
  },
  {
   "cell_type": "markdown",
   "metadata": {
    "lang": "es"
   },
   "source": [
    "### El tipo `unidad` y un primer contacto con los efectos secundarios\n",
    "\n",
    "La lista de todos los tipos básicos en F\\# se puede encontrar [aquí](https://learn.microsoft.com/en-us/dotnet/fsharp/language-reference/basic-types). Además de los habituales `bool`, `char`, `string` y todos los diversos números numéricos, hay uno que se llama `unidad`.\n",
    "\n",
    "El tipo `unidad` tiene solo un valor posible `()`, y se usa para representar que no hay ningún tipo.\n",
    "\n",
    "Aunque pueda parecer oscuro al principio, el lenguaje proporciona esta característica para tratar, por ejemplo, con esas cosas que suceden en el código que no devuelve nada. Por ejemplo, la función `printfn`:"
   ]
  },
  {
   "cell_type": "code",
   "execution_count": 6,
   "metadata": {
    "dotnet_interactive": {
     "language": "fsharp"
    }
   },
   "outputs": [
    {
     "name": "stdout",
     "output_type": "stream",
     "text": [
      "I am printfn \n",
      "and I do return unit: ()\n"
     ]
    }
   ],
   "source": [
    "let q = printfn \"I am printfn \"\n",
    "printfn \"and I do return unit: %A\" q"
   ]
  },
  {
   "cell_type": "markdown",
   "metadata": {
    "lang": "en"
   },
   "source": [
    "Here we assign the `printfn` result into the value `q`, and then we print its value, which is, `()`. Note that the function `printfn` does print in the console, pretty much as any print-like function in most languages. \n",
    "\n",
    "Also, one can have a function that does not have any input:"
   ]
  },
  {
   "cell_type": "markdown",
   "metadata": {
    "lang": "es"
   },
   "source": [
    "Aquí asignamos el resultado `printfn` al valor `q`, y luego imprimimos su valor, que es `()`. Tenga en cuenta que la función `printfn` se imprime en la consola, casi como cualquier función de impresión en la mayoría de los idiomas.\n",
    "\n",
    "Además, uno puede tener una función que no tiene ninguna entrada:"
   ]
  },
  {
   "cell_type": "code",
   "execution_count": 7,
   "metadata": {
    "dotnet_interactive": {
     "language": "fsharp"
    }
   },
   "outputs": [],
   "source": [
    "let ohMy () =\n",
    "    \"ohMy\"    "
   ]
  },
  {
   "cell_type": "markdown",
   "metadata": {
    "lang": "en"
   },
   "source": [
    "The function `ohMy` just defines the string \"ohMy\", and does not need to receive anything as an input. \n",
    "\n",
    "In general, the `unit` type is a typical clue that we are dealing with some _side effect_. For example, printing something in the console is _not_ the output of the `printfn` function, but a side effect: the function does something that alters what is happening in the console. Your code is minding its own bussiness, but at some point, you decided to show some information on the console. But your code is not the console program, it has nothing to do with it, except that it _can_ write things in the console. That is a side effect: something your code does that does not belong to the realm the code is working in. \n",
    "\n",
    "All the data that your code produces will be in the form of some side effect: printing in the console, saving in a database, creating a file, sending an email, etc. Also, all the data your code uses comes from somewhere: a file, the input of the user in a keyboard, a url, etc. Any useful program will result in some side effect. Therefore, even though functional programming is all about functions, at some point it needs to have tools to receive or return data from the world. Those are _desired_ side effects, probably written in some form of specification of your application. \n",
    "\n",
    "What functional programming does is to give you all the tools to prevent _undesired_ side effects in your code, but to produce _desired_ side effects when are needed. For example, a particular function in your code will receive some inmutable inputs and produce some new outputs. Then, if one restricts the attention to that function, anything outside the world of it remains unchanged, but a new value (the output) is created. \n",
    "\n",
    "In non-functional languages, the most common undesired side effect is to be able to change input values in a function. In most cases, these languages have the ability to pass arguments to a function as a reference (a pointer in C, for example) so one can change the values of it, which in turn will change the value of the argument variable. Or one can change the value of a global variable within a function. This makes debugging much harder, and code much difficult to mantain. \n",
    "\n",
    "\n",
    "\n"
   ]
  },
  {
   "cell_type": "markdown",
   "metadata": {
    "lang": "es"
   },
   "source": [
    "La función `ohMy` solo define la cadena \"ohMy\", y no necesita recibir nada como entrada.\n",
    "\n",
    "En general, el tipo `unidad` es una pista típica de que estamos lidiando con algún _efecto secundario_. Por ejemplo, imprimir algo en la consola _no_ es el resultado de la función `printfn`, sino un efecto secundario: la función hace algo que altera lo que sucede en la consola. Su código se ocupa de sus propios asuntos, pero en algún momento decidió mostrar cierta información en la consola. Pero su código no es el programa de la consola, no tiene nada que ver con él, excepto que _puede_ escribir cosas en la consola. Ese es un efecto secundario: algo que hace su código que no pertenece al ámbito en el que está trabajando el código.\n",
    "\n",
    "Todos los datos que produce su código tendrán la forma de algún efecto secundario: imprimir en la consola, guardar en una base de datos, crear un archivo, enviar un correo electrónico, etc. Además, todos los datos que usa su código provienen de alguna parte: un archivo, la entrada del usuario en un teclado, una url, etc. Cualquier programa útil resultará en algún efecto secundario. Por lo tanto, aunque la programación funcional tiene que ver con funciones, en algún momento necesita tener herramientas para recibir o devolver datos del mundo. Esos son efectos secundarios _deseado_, probablemente escritos en alguna forma de especificación de su aplicación.\n",
    "\n",
    "Lo que hace la programación funcional es brindarle todas las herramientas para evitar efectos secundarios _no deseados_ en su código, pero para producir efectos secundarios _deseados_ cuando sean necesarios. Por ejemplo, una función particular en su código recibirá algunas entradas inmutables y producirá algunas salidas nuevas. Entonces, si uno restringe la atención a esa función, cualquier cosa fuera de su mundo permanece sin cambios, pero se crea un nuevo valor (la salida).\n",
    "\n",
    "En lenguajes no funcionales, el efecto secundario no deseado más común es poder cambiar los valores de entrada en una función. En la mayoría de los casos, estos lenguajes tienen la capacidad de pasar argumentos a una función como referencia (un puntero en C, por ejemplo) para que uno pueda cambiar los valores de la misma, lo que a su vez cambiará el valor de la variable del argumento. O uno puede cambiar el valor de una variable global dentro de una función. Esto hace que la depuración sea mucho más difícil y que el código sea mucho más difícil de mantener."
   ]
  },
  {
   "cell_type": "markdown",
   "metadata": {
    "lang": "es"
   },
   "source": [
    "La función `ohMy` solo define la cadena \"ohMy\", y no necesita recibir nada como entrada.\n",
    "\n",
    "En general, el tipo `unidad` es una pista típica de que estamos lidiando con algún _efecto secundario_. Por ejemplo, imprimir algo en la consola _no_ es el resultado de la función `printfn`, sino un efecto secundario: la función hace algo que altera lo que sucede en la consola. Su código se ocupa de sus propios asuntos, pero en algún momento decidió mostrar cierta información en la consola. Pero su código no es el programa de la consola, no tiene nada que ver con él, excepto que _puede_ escribir cosas en la consola. Ese es un efecto secundario: algo que hace su código que no pertenece al ámbito en el que está trabajando el código.\n",
    "\n",
    "Todos los datos que produce su código tendrán la forma de algún efecto secundario: imprimir en la consola, guardar en una base de datos, crear un archivo, enviar un correo electrónico, etc. Además, todos los datos que usa su código provienen de alguna parte: un archivo, la entrada del usuario en un teclado, una url, etc. Cualquier programa útil resultará en algún efecto secundario. Por lo tanto, aunque la programación funcional tiene que ver con funciones, en algún momento necesita tener herramientas para recibir o devolver datos del mundo. Esos son efectos secundarios _deseado_, probablemente escritos en alguna forma de especificación de su aplicación.\n",
    "\n",
    "Lo que hace la programación funcional es brindarle todas las herramientas para evitar efectos secundarios _no deseados_ en su código, pero para producir efectos secundarios _deseados_ cuando sean necesarios. Por ejemplo, una función particular en su código recibirá algunas entradas inmutables y producirá algunas salidas nuevas. Entonces, si uno restringe la atención a esa función, cualquier cosa fuera de su mundo permanece sin cambios, pero se crea un nuevo valor (la salida).\n",
    "\n",
    "En lenguajes no funcionales, el efecto secundario no deseado más común es poder cambiar los valores de entrada en una función. En la mayoría de los casos, estos lenguajes tienen la capacidad de pasar argumentos a una función como referencia (un puntero en C, por ejemplo) para que uno pueda cambiar los valores de la misma, lo que a su vez cambiará el valor de la variable del argumento. O uno puede cambiar el valor de una variable global dentro de una función. Esto hace que la depuración sea mucho más difícil y que el código sea mucho más difícil de mantener."
   ]
  },
  {
   "cell_type": "markdown",
   "metadata": {},
   "source": [
    "> Checkout [the Jupyter notebook companion of this guide](https://github.com/fcolavecchia/fp-course/blob/main/en/IntroToTypes.ipynb)."
   ]
  },
  {
   "cell_type": "markdown",
   "metadata": {},
   "source": []
  }
 ],
 "metadata": {
  "kernelspec": {
   "display_name": ".NET (C#)",
   "language": "C#",
   "name": ".net-csharp"
  },
  "language_info": {
   "file_extension": ".cs",
   "mimetype": "text/x-csharp",
   "name": "C#",
   "pygments_lexer": "csharp",
   "version": "8.0"
  },
  "nbTranslate": {
   "displayLangs": [
    "es"
   ],
   "hotkey": "alt-t",
   "langInMainMenu": true,
   "sourceLang": "en",
   "targetLang": "es",
   "useGoogleTranslate": true
  },
  "polyglot_notebook": {
   "kernelInfo": {
    "defaultKernelName": "csharp",
    "items": [
     {
      "aliases": [],
      "name": ".NET"
     },
     {
      "aliases": [
       "C#",
       "c#"
      ],
      "languageName": "C#",
      "name": "csharp"
     },
     {
      "aliases": [
       "F#",
       "f#"
      ],
      "languageName": "F#",
      "name": "fsharp"
     },
     {
      "aliases": [],
      "languageName": "HTML",
      "name": "html"
     },
     {
      "aliases": [
       "js"
      ],
      "languageName": "JavaScript",
      "name": "javascript"
     },
     {
      "aliases": [],
      "languageName": "KQL",
      "name": "kql"
     },
     {
      "aliases": [],
      "languageName": "Mermaid",
      "name": "mermaid"
     },
     {
      "aliases": [
       "powershell"
      ],
      "languageName": "PowerShell",
      "name": "pwsh"
     },
     {
      "aliases": [],
      "languageName": "SQL",
      "name": "sql"
     },
     {
      "aliases": [],
      "name": "value"
     },
     {
      "aliases": [
       "frontend"
      ],
      "name": "vscode"
     },
     {
      "aliases": [],
      "name": "webview"
     }
    ]
   }
  }
 },
 "nbformat": 4,
 "nbformat_minor": 2
}

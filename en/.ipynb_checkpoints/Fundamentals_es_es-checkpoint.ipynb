{
 "cells": [
  {
   "cell_type": "markdown",
   "metadata": {
    "lang": "es"
   },
   "source": [
    "## Fundamentos\n",
    "\n",
    "Estas guías están orientadas a aquellos programadores interesados ​​en aprender algunos conceptos sobre programación funcional en F\\#, desde una perspectiva práctica.\n",
    "\n",
    "### En preparación para el despegue\n",
    "\n",
    "Estas guías están orientadas a aquellos programadores interesados ​​en aprender algunos conceptos sobre programación funcional en F\\#, desde una perspectiva práctica. F\\# es un excelente _primer_ lenguaje de programación funcional: es funcional (por supuesto), tiene una sintaxis limpia y legible (sin muchos símbolos sofisticados y demás), es flexible (en caso de que necesita comprender algún otro paradigma en medio de su código) y es lo suficientemente conciso para expresar sus ideas con claridad.\n",
    "\n",
    "Aprender un nuevo lenguaje _y_ un nuevo paradigma de programación es una aventura maravillosa. No necesita ninguna preparación especial, aunque supongo que el lector tiene experiencia en al menos un lenguaje popular (digamos C, Python, Java o JavaScript, por ejemplo). Espero que disfrutes tu viaje tanto como yo lo hice cuando comencé con F\\# hace unos años. Recuerda codificar y cometer errores, pues ahí es donde se transforma el aprendizaje.\n",
    "\n",
    "F\\#, como cualquier otro lenguaje informático, tiene su propia sintaxis y peculiaridades que es necesario comprender. Pero aprender el paradigma funcional requiere dejar de lado algunos conceptos que a uno le gustan mucho y que usa en la codificación diaria en lenguajes imperativos u orientados a objetos.\n",
    "\n",
    "> Esta diferencia tiene profundas raíces en el mismo origen de la informática.\n",
    "> Al principio, había dos enfoques de computación formal mutuamente equivalentes, uno desarrollado por Alan Turing con su [máquina de computación] (https://londmathsoc.onlinelibrary.wiley.com/doi/epdf/10.1112/plms/s2-42.1 .230), mientras que el otro fue elaborado por Alonzo Church con su [cálculo lambda](https://www.jstor.org/stable/2371045?origin=crossref&seq=10#metadata_info_tab_contents ). Ambos enfoques evolucionaron en paralelo y dieron lugar a diferentes ramas de estilos de programación.\n",
    "> La programación funcional no es nueva en absoluto. LISP, el primer lenguaje de programación funcional apareció en 1958, apenas un año antes de su\n",
    "> contrapartida imperativa, Fortran.\n",
    ">\n",
    "> En un sentido muy amplio, aprender un lenguaje funcional es como viajar en el tiempo, retroceder por la rama imperativa de la programación y tomar la otra salida de la rotonda.\n",
    "\n",
    "Aunque finalmente no adopte el paradigma funcional, agregar un nuevo estilo de lenguaje a sus activos le brindará la experiencia para revisar viejos hábitos de programación con nuevos ojos, brindando una comprensión más profunda y un ajuste más fino de su código. ¡Te convertirás en un mejor programador, definitivamente!\n",
    "\n",
    "F\\# es uno de los lenguajes proporcionados por .NET framework (junto con C# y Visual Basic). Como tal, F\\# está estrechamente integrado con todas las herramientas y bibliotecas que proporciona .NET. Pero en este enfoque, veré .NET como el conjunto de bibliotecas que uno puede usar para mejorar su código. En otras palabras, me mantendré alejado de usarlos y me centraré en las características principales de F\\# como lenguaje funcional. Desde la programación web hasta el aprendizaje automático, desde bases de datos hasta Windows, .NET tiene todo lo que necesita para que su programación sea una mejor experiencia, una vez que conozca las características principales que proporciona F\\#.\n",
    "\n",
    "Además, mi objetivo es mantenerlo lo más simple posible, porque me gustaría que el lector tenga el conjunto fundamental de herramientas del idioma para jugar. Con ese fin, algunos conceptos se dejan de lado a propósito y se revelarán en el futuro.\n",
    "\n",
    "> Si usted es un programador de C#, probablemente obtendrá un mejor rendimiento al utilizar algunos de los excelentes recursos de F\\# para programadores de C#, como [Obtener programación con F\\#](https://www.manning.com /books/get-programming-with-f-sharp#:~:text=about%20the%20book-,Get%20Programming%20with%20F%23%3A%20A%20guide%20for%20.,of%20function% 20programación%20en%20F%23.)"
   ]
  },
  {
   "cell_type": "markdown",
   "metadata": {
    "lang": "es"
   },
   "source": [
    "## Herramientas\n",
    "\n",
    "Esta serie trata sobre los fundamentos de la programación de F\\#, y ninguno de los ejemplos necesita siquiera instalar F\\#. Simplemente puede codificar en su navegador web de su elección, dirigiéndose a [Fable REPL] (https://fable.io/repl/). Simplemente escriba su código en el panel izquierdo, haga clic en el botón de reproducción habitual (o Alt+Enter) y ya está, ¡está programando en F\\#!.\n",
    "\n",
    "También puede instalar el lenguaje F\\# y usar su editor diario, pero deberá instalar el [.NET SDK](https://dotnet.microsoft.com/en-us/download/dotnet/7.0), disponible para Windows, Linux y macOS.\n",
    "\n",
    "Además, esta serie está escrita como [cuadernos de Jupyter](https://jupyter.org/). Puede obtenerlos en [este repositorio de github] (https://github.com/fcolavecchia/fp-course). Las instrucciones sobre cómo configurar F\\# como kernel de Notebook se pueden encontrar [aquí](https://github.com/dotnet/interactive/blob/main/docs/NotebookswithJupyter.md).\n",
    "\n",
    "[Visual Studio Code](https://code.visualstudio.com/) tiene una maravillosa extensión llamada [Ionide](https://ionide.io/Editors/Code/overview.html) para trabajar con F\\#. Yo personalmente uso JetBrains Rider para mi codificación diaria que admite F\\#.\n",
    "\n",
    "También puede usar F\\# con Visual Studio para Windows o MacOS, si está familiarizado con esa herramienta.\n",
    "\n",
    "Además, si desea codificar F\\# con `vim`, [Ionide también lo cubre] (https://ionide.io/Editors/Vim/overview.html)."
   ]
  },
  {
   "cell_type": "markdown",
   "metadata": {
    "lang": "es"
   },
   "source": [
    "### `que` comience la diversión\n",
    "\n",
    "Cualquier código que escriba necesitará datos.\n",
    "\n",
    "Cualquier código que escriba hará _algo_ con esos datos.\n",
    "\n",
    "Entonces, el primer paso en un nuevo lenguaje es aprender cómo definir una forma de almacenar sus datos y cómo transformarlos a lo largo del programa. Estos conceptos generalmente se traducen en _variables_ y _rutinas_, (o cualquier otro nombre, como procedimientos o funciones, dependiendo de su ámbito de programación), respectivamente. De esta forma, uno usa rutinas para cambiar las variables, o crear otras, desde una orden para comprar algo en un sitio web, hasta el color de un píxel en tu juego de preferencia.\n",
    "\n",
    "Pero regresemos y comencemos con _expresiones_. Una expresión es un conjunto ordenado de símbolos que pueden representar diferentes entidades en el código. Casi como una oración en un lenguaje humano, una expresión debe tener una sintaxis válida (nadie me entenderá si uso mal el punto) y también debe ser significativa (yo un ejemplo para si yo nadie del tipo de oración las palabras comprenderán). El compilador, sin embargo, es mucho más estricto con las reglas y no permite este tipo de poemas. ¿Por qué? Debido a que el compilador necesita captar la expresión, procesarla y obtener un _valor_. Entonces el valor es el resultado de la evaluación de una expresión.\n",
    "\n",
    "Y dado que cada expresión da como resultado un valor, uno debe administrar todos estos valores que aparecerán a medida que se ejecuta el código, identificarlos y usarlos como mejor le parezca. Con ese fin, F\\# usa varias _palabras clave_, y una de ellas es `let`.\n",
    "\n",
    "En F\\# se dice que `let` _vincula_ una expresión a un identificador. Por ejemplo"
   ]
  },
  {
   "cell_type": "code",
   "execution_count": 1,
   "metadata": {
    "dotnet_interactive": {
     "language": "fsharp"
    },
    "vscode": {
     "languageId": "polyglot-notebook"
    }
   },
   "outputs": [
    {
     "data": {
      "text/html": [
       "\r\n",
       "<div>\r\n",
       "    <div id='dotnet-interactive-this-cell-36993.Microsoft.DotNet.Interactive.Http.HttpPort' style='display: none'>\r\n",
       "        The below script needs to be able to find the current output cell; this is an easy method to get it.\r\n",
       "    </div>\r\n",
       "    <script type='text/javascript'>\r\n",
       "async function probeAddresses(probingAddresses) {\r\n",
       "    function timeout(ms, promise) {\r\n",
       "        return new Promise(function (resolve, reject) {\r\n",
       "            setTimeout(function () {\r\n",
       "                reject(new Error('timeout'))\r\n",
       "            }, ms)\r\n",
       "            promise.then(resolve, reject)\r\n",
       "        })\r\n",
       "    }\r\n",
       "\r\n",
       "    if (Array.isArray(probingAddresses)) {\r\n",
       "        for (let i = 0; i < probingAddresses.length; i++) {\r\n",
       "\r\n",
       "            let rootUrl = probingAddresses[i];\r\n",
       "\r\n",
       "            if (!rootUrl.endsWith('/')) {\r\n",
       "                rootUrl = `${rootUrl}/`;\r\n",
       "            }\r\n",
       "\r\n",
       "            try {\r\n",
       "                let response = await timeout(1000, fetch(`${rootUrl}discovery`, {\r\n",
       "                    method: 'POST',\r\n",
       "                    cache: 'no-cache',\r\n",
       "                    mode: 'cors',\r\n",
       "                    timeout: 1000,\r\n",
       "                    headers: {\r\n",
       "                        'Content-Type': 'text/plain'\r\n",
       "                    },\r\n",
       "                    body: probingAddresses[i]\r\n",
       "                }));\r\n",
       "\r\n",
       "                if (response.status == 200) {\r\n",
       "                    return rootUrl;\r\n",
       "                }\r\n",
       "            }\r\n",
       "            catch (e) { }\r\n",
       "        }\r\n",
       "    }\r\n",
       "}\r\n",
       "\r\n",
       "function loadDotnetInteractiveApi() {\r\n",
       "    probeAddresses([\"http://192.168.0.126:1024/\", \"http://127.0.0.1:1024/\"])\r\n",
       "        .then((root) => {\r\n",
       "        // use probing to find host url and api resources\r\n",
       "        // load interactive helpers and language services\r\n",
       "        let dotnetInteractiveRequire = require.config({\r\n",
       "        context: '36993.Microsoft.DotNet.Interactive.Http.HttpPort',\r\n",
       "                paths:\r\n",
       "            {\r\n",
       "                'dotnet-interactive': `${root}resources`\r\n",
       "                }\r\n",
       "        }) || require;\r\n",
       "\r\n",
       "            window.dotnetInteractiveRequire = dotnetInteractiveRequire;\r\n",
       "\r\n",
       "            window.configureRequireFromExtension = function(extensionName, extensionCacheBuster) {\r\n",
       "                let paths = {};\r\n",
       "                paths[extensionName] = `${root}extensions/${extensionName}/resources/`;\r\n",
       "                \r\n",
       "                let internalRequire = require.config({\r\n",
       "                    context: extensionCacheBuster,\r\n",
       "                    paths: paths,\r\n",
       "                    urlArgs: `cacheBuster=${extensionCacheBuster}`\r\n",
       "                    }) || require;\r\n",
       "\r\n",
       "                return internalRequire\r\n",
       "            };\r\n",
       "        \r\n",
       "            dotnetInteractiveRequire([\r\n",
       "                    'dotnet-interactive/dotnet-interactive'\r\n",
       "                ],\r\n",
       "                function (dotnet) {\r\n",
       "                    dotnet.init(window);\r\n",
       "                },\r\n",
       "                function (error) {\r\n",
       "                    console.log(error);\r\n",
       "                }\r\n",
       "            );\r\n",
       "        })\r\n",
       "        .catch(error => {console.log(error);});\r\n",
       "    }\r\n",
       "\r\n",
       "// ensure `require` is available globally\r\n",
       "if ((typeof(require) !==  typeof(Function)) || (typeof(require.config) !== typeof(Function))) {\r\n",
       "    let require_script = document.createElement('script');\r\n",
       "    require_script.setAttribute('src', 'https://cdnjs.cloudflare.com/ajax/libs/require.js/2.3.6/require.min.js');\r\n",
       "    require_script.setAttribute('type', 'text/javascript');\r\n",
       "    \r\n",
       "    \r\n",
       "    require_script.onload = function() {\r\n",
       "        loadDotnetInteractiveApi();\r\n",
       "    };\r\n",
       "\r\n",
       "    document.getElementsByTagName('head')[0].appendChild(require_script);\r\n",
       "}\r\n",
       "else {\r\n",
       "    loadDotnetInteractiveApi();\r\n",
       "}\r\n",
       "\r\n",
       "    </script>\r\n",
       "</div>"
      ]
     },
     "metadata": {},
     "output_type": "display_data"
    }
   ],
   "source": [
    "// This is my first line in F#, which is a comment ¯\\_(シ)_/¯\n",
    "let j = 1 // an integer "
   ]
  },
  {
   "cell_type": "markdown",
   "metadata": {
    "lang": "es"
   },
   "source": [
    "une la expresión literal `1` al nombre `a`. En el lado derecho del símbolo `=` (que actúa aquí como un operador vinculante), uno puede tener cualquier expresión válida:"
   ]
  },
  {
   "cell_type": "code",
   "execution_count": 2,
   "metadata": {
    "dotnet_interactive": {
     "language": "fsharp"
    },
    "vscode": {
     "languageId": "polyglot-notebook"
    }
   },
   "outputs": [],
   "source": [
    "let a = 1.0 + 3.0 // floats \n",
    "let s = \"this is a string\" \n",
    "let l = [1 ; 2 ; 3] // A list of integers \n",
    "let m = (\"Messi\",10) // A tuple of a string and a number \n",
    "let t = true // A bool "
   ]
  },
  {
   "cell_type": "markdown",
   "metadata": {
    "lang": "es"
   },
   "source": [
    "etcétera. Por supuesto, uno puede asociar un enlace anterior con uno nuevo a través de una expresión:"
   ]
  },
  {
   "cell_type": "code",
   "execution_count": 3,
   "metadata": {
    "dotnet_interactive": {
     "language": "fsharp"
    },
    "vscode": {
     "languageId": "polyglot-notebook"
    }
   },
   "outputs": [],
   "source": [
    "let b = a + 4.0 "
   ]
  },
  {
   "cell_type": "markdown",
   "metadata": {
    "lang": "es"
   },
   "source": [
    "En la línea anterior, agregamos cuatro a `a` y vinculamos el resultado de esta expresión al identificador `b`."
   ]
  },
  {
   "cell_type": "markdown",
   "metadata": {
    "dotnet_interactive": {
     "language": "csharp"
    },
    "polyglot_notebook": {
     "kernelName": "csharp"
    }
   },
   "source": [
    "### Immutability\n",
    "\n",
    "However, you cannot bind an expression to an identifier that has already been used:"
   ]
  },
  {
   "cell_type": "code",
   "execution_count": 4,
   "metadata": {
    "dotnet_interactive": {
     "language": "fsharp"
    },
    "vscode": {
     "languageId": "polyglot-notebook"
    }
   },
   "outputs": [
    {
     "ename": "Error",
     "evalue": "input.fsx (2,5)-(2,6) typecheck error Duplicate definition of value 'q'",
     "output_type": "error",
     "traceback": [
      "input.fsx (2,5)-(2,6) typecheck error Duplicate definition of value 'q'"
     ]
    }
   ],
   "source": [
    "let q = 3\n",
    "let q = q + 1"
   ]
  },
  {
   "cell_type": "markdown",
   "metadata": {
    "lang": "es"
   },
   "source": [
    "lo que responde por qué no se usa el término _variable_ en F\\#: una vez que se obtiene el valor de una expresión, no se puede cambiar. En otras palabras, todos los valores son _inmutables_: una vez allí, no se pueden cambiar. No hay variables en el idioma, porque no hay nada que _varía_. Puede crear tantos valores como desee, pero no puede cambiarlos:"
   ]
  },
  {
   "cell_type": "code",
   "execution_count": 5,
   "metadata": {
    "dotnet_interactive": {
     "language": "fsharp"
    },
    "vscode": {
     "languageId": "polyglot-notebook"
    }
   },
   "outputs": [],
   "source": [
    "let q = 3\n",
    "let qq = q + 1"
   ]
  },
  {
   "cell_type": "markdown",
   "metadata": {
    "lang": "es"
   },
   "source": [
    "Las implicaciones de esto son profundas y es muy importante dejar que el concepto madure y se asiente, porque filtra todo el código en F\\# (y cualquier otro lenguaje funcional). De alguna manera, como todo es una expresión, codificar en F\\# es gestionar las expresiones que resuelven nuestro problema. Usted nombra una expresión (es decir, la vincula a un identificador), la usa en otra expresión, vincula su valor a un nuevo identificador y así sucesivamente.\n",
    "\n",
    "La perspectiva de un código como una larga lista de enlaces `let` es un poco desalentadora. Ahí es donde entran las funciones."
   ]
  },
  {
   "cell_type": "markdown",
   "metadata": {
    "dotnet_interactive": {
     "language": "csharp"
    },
    "polyglot_notebook": {
     "kernelName": "csharp"
    }
   },
   "source": [
    "> Checkout [the Jupyter notebook companion of this guide](https://github.com/fcolavecchia/fp-course/blob/main/en/Fundamentals.ipynb)."
   ]
  }
 ],
 "metadata": {
  "kernelspec": {
   "display_name": ".NET (F#)",
   "language": "F#",
   "name": ".net-fsharp"
  },
  "language_info": {
   "file_extension": ".fs",
   "mimetype": "text/x-fsharp",
   "name": "C#",
   "pygments_lexer": "fsharp",
   "version": "4.5"
  },
  "nbTranslate": {
   "displayLangs": [
    "es"
   ],
   "hotkey": "alt-t",
   "langInMainMenu": true,
   "sourceLang": "en",
   "targetLang": "es",
   "useGoogleTranslate": true
  },
  "polyglot_notebook": {
   "kernelInfo": {
    "defaultKernelName": "csharp",
    "items": [
     {
      "aliases": [
       "c#",
       "C#"
      ],
      "languageName": "C#",
      "name": "csharp"
     },
     {
      "aliases": [
       "js"
      ],
      "languageName": "JavaScript",
      "name": "javascript"
     },
     {
      "aliases": [],
      "name": "webview"
     },
     {
      "aliases": [],
      "languageName": "Mermaid",
      "name": "mermaid"
     },
     {
      "aliases": [
       "frontend"
      ],
      "languageName": null,
      "name": "vscode"
     }
    ]
   }
  }
 },
 "nbformat": 4,
 "nbformat_minor": 2
}
